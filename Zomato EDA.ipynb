{
 "cells": [
  {
   "cell_type": "code",
   "execution_count": 165,
   "id": "955e1588-200a-4d03-9a08-b0adfe4b8e15",
   "metadata": {},
   "outputs": [],
   "source": [
    "import numpy as np\n",
    "import pandas as pd\n",
    "import seaborn as sns\n",
    "from matplotlib import pyplot as plt"
   ]
  },
  {
   "cell_type": "code",
   "execution_count": 166,
   "id": "47df63b0-a224-482c-b51e-80a7303ee17c",
   "metadata": {},
   "outputs": [],
   "source": [
    "import warnings\n",
    "warnings.simplefilter(action='ignore')"
   ]
  },
  {
   "cell_type": "code",
   "execution_count": 167,
   "id": "d58fa72b-dabe-4997-8d27-54560fc6343c",
   "metadata": {},
   "outputs": [
    {
     "data": {
      "text/html": [
       "<div>\n",
       "<style scoped>\n",
       "    .dataframe tbody tr th:only-of-type {\n",
       "        vertical-align: middle;\n",
       "    }\n",
       "\n",
       "    .dataframe tbody tr th {\n",
       "        vertical-align: top;\n",
       "    }\n",
       "\n",
       "    .dataframe thead th {\n",
       "        text-align: right;\n",
       "    }\n",
       "</style>\n",
       "<table border=\"1\" class=\"dataframe\">\n",
       "  <thead>\n",
       "    <tr style=\"text-align: right;\">\n",
       "      <th></th>\n",
       "      <th>url</th>\n",
       "      <th>address</th>\n",
       "      <th>name</th>\n",
       "      <th>online_order</th>\n",
       "      <th>book_table</th>\n",
       "      <th>rate</th>\n",
       "      <th>votes</th>\n",
       "      <th>phone</th>\n",
       "      <th>location</th>\n",
       "      <th>rest_type</th>\n",
       "      <th>dish_liked</th>\n",
       "      <th>cuisines</th>\n",
       "      <th>approx_cost(for two people)</th>\n",
       "      <th>reviews_list</th>\n",
       "      <th>menu_item</th>\n",
       "      <th>listed_in(type)</th>\n",
       "      <th>listed_in(city)</th>\n",
       "    </tr>\n",
       "  </thead>\n",
       "  <tbody>\n",
       "    <tr>\n",
       "      <th>0</th>\n",
       "      <td>https://www.zomato.com/bangalore/jalsa-banasha...</td>\n",
       "      <td>942, 21st Main Road, 2nd Stage, Banashankari, ...</td>\n",
       "      <td>Jalsa</td>\n",
       "      <td>Yes</td>\n",
       "      <td>Yes</td>\n",
       "      <td>4.1/5</td>\n",
       "      <td>775</td>\n",
       "      <td>080 42297555\\r\\n+91 9743772233</td>\n",
       "      <td>Banashankari</td>\n",
       "      <td>Casual Dining</td>\n",
       "      <td>Pasta, Lunch Buffet, Masala Papad, Paneer Laja...</td>\n",
       "      <td>North Indian, Mughlai, Chinese</td>\n",
       "      <td>800</td>\n",
       "      <td>[('Rated 4.0', 'RATED\\n  A beautiful place to ...</td>\n",
       "      <td>[]</td>\n",
       "      <td>Buffet</td>\n",
       "      <td>Banashankari</td>\n",
       "    </tr>\n",
       "    <tr>\n",
       "      <th>1</th>\n",
       "      <td>https://www.zomato.com/bangalore/spice-elephan...</td>\n",
       "      <td>2nd Floor, 80 Feet Road, Near Big Bazaar, 6th ...</td>\n",
       "      <td>Spice Elephant</td>\n",
       "      <td>Yes</td>\n",
       "      <td>No</td>\n",
       "      <td>4.1/5</td>\n",
       "      <td>787</td>\n",
       "      <td>080 41714161</td>\n",
       "      <td>Banashankari</td>\n",
       "      <td>Casual Dining</td>\n",
       "      <td>Momos, Lunch Buffet, Chocolate Nirvana, Thai G...</td>\n",
       "      <td>Chinese, North Indian, Thai</td>\n",
       "      <td>800</td>\n",
       "      <td>[('Rated 4.0', 'RATED\\n  Had been here for din...</td>\n",
       "      <td>[]</td>\n",
       "      <td>Buffet</td>\n",
       "      <td>Banashankari</td>\n",
       "    </tr>\n",
       "    <tr>\n",
       "      <th>2</th>\n",
       "      <td>https://www.zomato.com/SanchurroBangalore?cont...</td>\n",
       "      <td>1112, Next to KIMS Medical College, 17th Cross...</td>\n",
       "      <td>San Churro Cafe</td>\n",
       "      <td>Yes</td>\n",
       "      <td>No</td>\n",
       "      <td>3.8/5</td>\n",
       "      <td>918</td>\n",
       "      <td>+91 9663487993</td>\n",
       "      <td>Banashankari</td>\n",
       "      <td>Cafe, Casual Dining</td>\n",
       "      <td>Churros, Cannelloni, Minestrone Soup, Hot Choc...</td>\n",
       "      <td>Cafe, Mexican, Italian</td>\n",
       "      <td>800</td>\n",
       "      <td>[('Rated 3.0', \"RATED\\n  Ambience is not that ...</td>\n",
       "      <td>[]</td>\n",
       "      <td>Buffet</td>\n",
       "      <td>Banashankari</td>\n",
       "    </tr>\n",
       "    <tr>\n",
       "      <th>3</th>\n",
       "      <td>https://www.zomato.com/bangalore/addhuri-udupi...</td>\n",
       "      <td>1st Floor, Annakuteera, 3rd Stage, Banashankar...</td>\n",
       "      <td>Addhuri Udupi Bhojana</td>\n",
       "      <td>No</td>\n",
       "      <td>No</td>\n",
       "      <td>3.7/5</td>\n",
       "      <td>88</td>\n",
       "      <td>+91 9620009302</td>\n",
       "      <td>Banashankari</td>\n",
       "      <td>Quick Bites</td>\n",
       "      <td>Masala Dosa</td>\n",
       "      <td>South Indian, North Indian</td>\n",
       "      <td>300</td>\n",
       "      <td>[('Rated 4.0', \"RATED\\n  Great food and proper...</td>\n",
       "      <td>[]</td>\n",
       "      <td>Buffet</td>\n",
       "      <td>Banashankari</td>\n",
       "    </tr>\n",
       "    <tr>\n",
       "      <th>4</th>\n",
       "      <td>https://www.zomato.com/bangalore/grand-village...</td>\n",
       "      <td>10, 3rd Floor, Lakshmi Associates, Gandhi Baza...</td>\n",
       "      <td>Grand Village</td>\n",
       "      <td>No</td>\n",
       "      <td>No</td>\n",
       "      <td>3.8/5</td>\n",
       "      <td>166</td>\n",
       "      <td>+91 8026612447\\r\\n+91 9901210005</td>\n",
       "      <td>Basavanagudi</td>\n",
       "      <td>Casual Dining</td>\n",
       "      <td>Panipuri, Gol Gappe</td>\n",
       "      <td>North Indian, Rajasthani</td>\n",
       "      <td>600</td>\n",
       "      <td>[('Rated 4.0', 'RATED\\n  Very good restaurant ...</td>\n",
       "      <td>[]</td>\n",
       "      <td>Buffet</td>\n",
       "      <td>Banashankari</td>\n",
       "    </tr>\n",
       "  </tbody>\n",
       "</table>\n",
       "</div>"
      ],
      "text/plain": [
       "                                                 url  \\\n",
       "0  https://www.zomato.com/bangalore/jalsa-banasha...   \n",
       "1  https://www.zomato.com/bangalore/spice-elephan...   \n",
       "2  https://www.zomato.com/SanchurroBangalore?cont...   \n",
       "3  https://www.zomato.com/bangalore/addhuri-udupi...   \n",
       "4  https://www.zomato.com/bangalore/grand-village...   \n",
       "\n",
       "                                             address                   name  \\\n",
       "0  942, 21st Main Road, 2nd Stage, Banashankari, ...                  Jalsa   \n",
       "1  2nd Floor, 80 Feet Road, Near Big Bazaar, 6th ...         Spice Elephant   \n",
       "2  1112, Next to KIMS Medical College, 17th Cross...        San Churro Cafe   \n",
       "3  1st Floor, Annakuteera, 3rd Stage, Banashankar...  Addhuri Udupi Bhojana   \n",
       "4  10, 3rd Floor, Lakshmi Associates, Gandhi Baza...          Grand Village   \n",
       "\n",
       "  online_order book_table   rate  votes                             phone  \\\n",
       "0          Yes        Yes  4.1/5    775    080 42297555\\r\\n+91 9743772233   \n",
       "1          Yes         No  4.1/5    787                      080 41714161   \n",
       "2          Yes         No  3.8/5    918                    +91 9663487993   \n",
       "3           No         No  3.7/5     88                    +91 9620009302   \n",
       "4           No         No  3.8/5    166  +91 8026612447\\r\\n+91 9901210005   \n",
       "\n",
       "       location            rest_type  \\\n",
       "0  Banashankari        Casual Dining   \n",
       "1  Banashankari        Casual Dining   \n",
       "2  Banashankari  Cafe, Casual Dining   \n",
       "3  Banashankari          Quick Bites   \n",
       "4  Basavanagudi        Casual Dining   \n",
       "\n",
       "                                          dish_liked  \\\n",
       "0  Pasta, Lunch Buffet, Masala Papad, Paneer Laja...   \n",
       "1  Momos, Lunch Buffet, Chocolate Nirvana, Thai G...   \n",
       "2  Churros, Cannelloni, Minestrone Soup, Hot Choc...   \n",
       "3                                        Masala Dosa   \n",
       "4                                Panipuri, Gol Gappe   \n",
       "\n",
       "                         cuisines approx_cost(for two people)  \\\n",
       "0  North Indian, Mughlai, Chinese                         800   \n",
       "1     Chinese, North Indian, Thai                         800   \n",
       "2          Cafe, Mexican, Italian                         800   \n",
       "3      South Indian, North Indian                         300   \n",
       "4        North Indian, Rajasthani                         600   \n",
       "\n",
       "                                        reviews_list menu_item  \\\n",
       "0  [('Rated 4.0', 'RATED\\n  A beautiful place to ...        []   \n",
       "1  [('Rated 4.0', 'RATED\\n  Had been here for din...        []   \n",
       "2  [('Rated 3.0', \"RATED\\n  Ambience is not that ...        []   \n",
       "3  [('Rated 4.0', \"RATED\\n  Great food and proper...        []   \n",
       "4  [('Rated 4.0', 'RATED\\n  Very good restaurant ...        []   \n",
       "\n",
       "  listed_in(type) listed_in(city)  \n",
       "0          Buffet    Banashankari  \n",
       "1          Buffet    Banashankari  \n",
       "2          Buffet    Banashankari  \n",
       "3          Buffet    Banashankari  \n",
       "4          Buffet    Banashankari  "
      ]
     },
     "execution_count": 167,
     "metadata": {},
     "output_type": "execute_result"
    }
   ],
   "source": [
    "df = pd.read_csv('zomato.csv')\n",
    "df.head()"
   ]
  },
  {
   "cell_type": "markdown",
   "id": "54563ab9-a997-46ef-a692-bc7463caf031",
   "metadata": {},
   "source": [
    "## Data Exploration"
   ]
  },
  {
   "cell_type": "code",
   "execution_count": 168,
   "id": "f1d9d27b-7f39-4dfc-b23f-07995d8f7bbb",
   "metadata": {},
   "outputs": [
    {
     "name": "stdout",
     "output_type": "stream",
     "text": [
      "<class 'pandas.core.frame.DataFrame'>\n",
      "RangeIndex: 51717 entries, 0 to 51716\n",
      "Data columns (total 17 columns):\n",
      " #   Column                       Non-Null Count  Dtype \n",
      "---  ------                       --------------  ----- \n",
      " 0   url                          51717 non-null  object\n",
      " 1   address                      51717 non-null  object\n",
      " 2   name                         51717 non-null  object\n",
      " 3   online_order                 51717 non-null  object\n",
      " 4   book_table                   51717 non-null  object\n",
      " 5   rate                         43942 non-null  object\n",
      " 6   votes                        51717 non-null  int64 \n",
      " 7   phone                        50509 non-null  object\n",
      " 8   location                     51696 non-null  object\n",
      " 9   rest_type                    51490 non-null  object\n",
      " 10  dish_liked                   23639 non-null  object\n",
      " 11  cuisines                     51672 non-null  object\n",
      " 12  approx_cost(for two people)  51371 non-null  object\n",
      " 13  reviews_list                 51717 non-null  object\n",
      " 14  menu_item                    51717 non-null  object\n",
      " 15  listed_in(type)              51717 non-null  object\n",
      " 16  listed_in(city)              51717 non-null  object\n",
      "dtypes: int64(1), object(16)\n",
      "memory usage: 6.7+ MB\n"
     ]
    }
   ],
   "source": [
    "df.info()"
   ]
  },
  {
   "cell_type": "code",
   "execution_count": 169,
   "id": "95f1b16e-64fa-4bc8-9675-d03aba688d9a",
   "metadata": {},
   "outputs": [
    {
     "data": {
      "text/plain": [
       "url                                0\n",
       "address                            0\n",
       "name                               0\n",
       "online_order                       0\n",
       "book_table                         0\n",
       "rate                            7775\n",
       "votes                              0\n",
       "phone                           1208\n",
       "location                          21\n",
       "rest_type                        227\n",
       "dish_liked                     28078\n",
       "cuisines                          45\n",
       "approx_cost(for two people)      346\n",
       "reviews_list                       0\n",
       "menu_item                          0\n",
       "listed_in(type)                    0\n",
       "listed_in(city)                    0\n",
       "dtype: int64"
      ]
     },
     "execution_count": 169,
     "metadata": {},
     "output_type": "execute_result"
    }
   ],
   "source": [
    "df.isnull().sum()"
   ]
  },
  {
   "cell_type": "code",
   "execution_count": 170,
   "id": "9215b49d-a165-4bb1-bda2-89b14ef99a02",
   "metadata": {},
   "outputs": [
    {
     "data": {
      "text/plain": [
       "url                            51717\n",
       "address                        11495\n",
       "name                            8792\n",
       "online_order                       2\n",
       "book_table                         2\n",
       "rate                              64\n",
       "votes                           2328\n",
       "phone                          14926\n",
       "location                          93\n",
       "rest_type                         93\n",
       "dish_liked                      5271\n",
       "cuisines                        2723\n",
       "approx_cost(for two people)       70\n",
       "reviews_list                   22513\n",
       "menu_item                       9098\n",
       "listed_in(type)                    7\n",
       "listed_in(city)                   30\n",
       "dtype: int64"
      ]
     },
     "execution_count": 170,
     "metadata": {},
     "output_type": "execute_result"
    }
   ],
   "source": [
    "df.nunique()"
   ]
  },
  {
   "cell_type": "markdown",
   "id": "99a81c89-89c2-4505-a553-8fb0d2a413bc",
   "metadata": {},
   "source": [
    "## Data Cleaning"
   ]
  },
  {
   "cell_type": "code",
   "execution_count": 171,
   "id": "f23a84c3-3c68-4558-86fa-404798e79ed6",
   "metadata": {},
   "outputs": [],
   "source": [
    "# Delete duplicate rows\n",
    "df.drop_duplicates(inplace=True)"
   ]
  },
  {
   "cell_type": "code",
   "execution_count": 172,
   "id": "ed6c32e8-adfe-4ff5-abfe-46add0678d3d",
   "metadata": {},
   "outputs": [
    {
     "data": {
      "text/html": [
       "<div>\n",
       "<style scoped>\n",
       "    .dataframe tbody tr th:only-of-type {\n",
       "        vertical-align: middle;\n",
       "    }\n",
       "\n",
       "    .dataframe tbody tr th {\n",
       "        vertical-align: top;\n",
       "    }\n",
       "\n",
       "    .dataframe thead th {\n",
       "        text-align: right;\n",
       "    }\n",
       "</style>\n",
       "<table border=\"1\" class=\"dataframe\">\n",
       "  <thead>\n",
       "    <tr style=\"text-align: right;\">\n",
       "      <th></th>\n",
       "      <th>url</th>\n",
       "      <th>name</th>\n",
       "      <th>online_order</th>\n",
       "      <th>book_table</th>\n",
       "      <th>rate</th>\n",
       "      <th>votes</th>\n",
       "      <th>rest_type</th>\n",
       "      <th>cuisines</th>\n",
       "      <th>approx_cost(for two people)</th>\n",
       "      <th>listed_in(city)</th>\n",
       "    </tr>\n",
       "  </thead>\n",
       "  <tbody>\n",
       "    <tr>\n",
       "      <th>0</th>\n",
       "      <td>https://www.zomato.com/bangalore/jalsa-banasha...</td>\n",
       "      <td>Jalsa</td>\n",
       "      <td>Yes</td>\n",
       "      <td>Yes</td>\n",
       "      <td>4.1/5</td>\n",
       "      <td>775</td>\n",
       "      <td>Casual Dining</td>\n",
       "      <td>North Indian, Mughlai, Chinese</td>\n",
       "      <td>800</td>\n",
       "      <td>Banashankari</td>\n",
       "    </tr>\n",
       "    <tr>\n",
       "      <th>1</th>\n",
       "      <td>https://www.zomato.com/bangalore/spice-elephan...</td>\n",
       "      <td>Spice Elephant</td>\n",
       "      <td>Yes</td>\n",
       "      <td>No</td>\n",
       "      <td>4.1/5</td>\n",
       "      <td>787</td>\n",
       "      <td>Casual Dining</td>\n",
       "      <td>Chinese, North Indian, Thai</td>\n",
       "      <td>800</td>\n",
       "      <td>Banashankari</td>\n",
       "    </tr>\n",
       "    <tr>\n",
       "      <th>2</th>\n",
       "      <td>https://www.zomato.com/SanchurroBangalore?cont...</td>\n",
       "      <td>San Churro Cafe</td>\n",
       "      <td>Yes</td>\n",
       "      <td>No</td>\n",
       "      <td>3.8/5</td>\n",
       "      <td>918</td>\n",
       "      <td>Cafe, Casual Dining</td>\n",
       "      <td>Cafe, Mexican, Italian</td>\n",
       "      <td>800</td>\n",
       "      <td>Banashankari</td>\n",
       "    </tr>\n",
       "    <tr>\n",
       "      <th>3</th>\n",
       "      <td>https://www.zomato.com/bangalore/addhuri-udupi...</td>\n",
       "      <td>Addhuri Udupi Bhojana</td>\n",
       "      <td>No</td>\n",
       "      <td>No</td>\n",
       "      <td>3.7/5</td>\n",
       "      <td>88</td>\n",
       "      <td>Quick Bites</td>\n",
       "      <td>South Indian, North Indian</td>\n",
       "      <td>300</td>\n",
       "      <td>Banashankari</td>\n",
       "    </tr>\n",
       "    <tr>\n",
       "      <th>4</th>\n",
       "      <td>https://www.zomato.com/bangalore/grand-village...</td>\n",
       "      <td>Grand Village</td>\n",
       "      <td>No</td>\n",
       "      <td>No</td>\n",
       "      <td>3.8/5</td>\n",
       "      <td>166</td>\n",
       "      <td>Casual Dining</td>\n",
       "      <td>North Indian, Rajasthani</td>\n",
       "      <td>600</td>\n",
       "      <td>Banashankari</td>\n",
       "    </tr>\n",
       "    <tr>\n",
       "      <th>...</th>\n",
       "      <td>...</td>\n",
       "      <td>...</td>\n",
       "      <td>...</td>\n",
       "      <td>...</td>\n",
       "      <td>...</td>\n",
       "      <td>...</td>\n",
       "      <td>...</td>\n",
       "      <td>...</td>\n",
       "      <td>...</td>\n",
       "      <td>...</td>\n",
       "    </tr>\n",
       "    <tr>\n",
       "      <th>51712</th>\n",
       "      <td>https://www.zomato.com/bangalore/best-brews-fo...</td>\n",
       "      <td>Best Brews - Four Points by Sheraton Bengaluru...</td>\n",
       "      <td>No</td>\n",
       "      <td>No</td>\n",
       "      <td>3.6 /5</td>\n",
       "      <td>27</td>\n",
       "      <td>Bar</td>\n",
       "      <td>Continental</td>\n",
       "      <td>1,500</td>\n",
       "      <td>Whitefield</td>\n",
       "    </tr>\n",
       "    <tr>\n",
       "      <th>51713</th>\n",
       "      <td>https://www.zomato.com/bangalore/vinod-bar-and...</td>\n",
       "      <td>Vinod Bar And Restaurant</td>\n",
       "      <td>No</td>\n",
       "      <td>No</td>\n",
       "      <td>NaN</td>\n",
       "      <td>0</td>\n",
       "      <td>Bar</td>\n",
       "      <td>Finger Food</td>\n",
       "      <td>600</td>\n",
       "      <td>Whitefield</td>\n",
       "    </tr>\n",
       "    <tr>\n",
       "      <th>51714</th>\n",
       "      <td>https://www.zomato.com/bangalore/plunge-sherat...</td>\n",
       "      <td>Plunge - Sheraton Grand Bengaluru Whitefield H...</td>\n",
       "      <td>No</td>\n",
       "      <td>No</td>\n",
       "      <td>NaN</td>\n",
       "      <td>0</td>\n",
       "      <td>Bar</td>\n",
       "      <td>Finger Food</td>\n",
       "      <td>2,000</td>\n",
       "      <td>Whitefield</td>\n",
       "    </tr>\n",
       "    <tr>\n",
       "      <th>51715</th>\n",
       "      <td>https://www.zomato.com/bangalore/chime-sherato...</td>\n",
       "      <td>Chime - Sheraton Grand Bengaluru Whitefield Ho...</td>\n",
       "      <td>No</td>\n",
       "      <td>Yes</td>\n",
       "      <td>4.3 /5</td>\n",
       "      <td>236</td>\n",
       "      <td>Bar</td>\n",
       "      <td>Finger Food</td>\n",
       "      <td>2,500</td>\n",
       "      <td>Whitefield</td>\n",
       "    </tr>\n",
       "    <tr>\n",
       "      <th>51716</th>\n",
       "      <td>https://www.zomato.com/bangalore/the-nest-the-...</td>\n",
       "      <td>The Nest - The Den Bengaluru</td>\n",
       "      <td>No</td>\n",
       "      <td>No</td>\n",
       "      <td>3.4 /5</td>\n",
       "      <td>13</td>\n",
       "      <td>Bar, Casual Dining</td>\n",
       "      <td>Finger Food, North Indian, Continental</td>\n",
       "      <td>1,500</td>\n",
       "      <td>Whitefield</td>\n",
       "    </tr>\n",
       "  </tbody>\n",
       "</table>\n",
       "<p>51717 rows × 10 columns</p>\n",
       "</div>"
      ],
      "text/plain": [
       "                                                     url  \\\n",
       "0      https://www.zomato.com/bangalore/jalsa-banasha...   \n",
       "1      https://www.zomato.com/bangalore/spice-elephan...   \n",
       "2      https://www.zomato.com/SanchurroBangalore?cont...   \n",
       "3      https://www.zomato.com/bangalore/addhuri-udupi...   \n",
       "4      https://www.zomato.com/bangalore/grand-village...   \n",
       "...                                                  ...   \n",
       "51712  https://www.zomato.com/bangalore/best-brews-fo...   \n",
       "51713  https://www.zomato.com/bangalore/vinod-bar-and...   \n",
       "51714  https://www.zomato.com/bangalore/plunge-sherat...   \n",
       "51715  https://www.zomato.com/bangalore/chime-sherato...   \n",
       "51716  https://www.zomato.com/bangalore/the-nest-the-...   \n",
       "\n",
       "                                                    name online_order  \\\n",
       "0                                                  Jalsa          Yes   \n",
       "1                                         Spice Elephant          Yes   \n",
       "2                                        San Churro Cafe          Yes   \n",
       "3                                  Addhuri Udupi Bhojana           No   \n",
       "4                                          Grand Village           No   \n",
       "...                                                  ...          ...   \n",
       "51712  Best Brews - Four Points by Sheraton Bengaluru...           No   \n",
       "51713                           Vinod Bar And Restaurant           No   \n",
       "51714  Plunge - Sheraton Grand Bengaluru Whitefield H...           No   \n",
       "51715  Chime - Sheraton Grand Bengaluru Whitefield Ho...           No   \n",
       "51716                       The Nest - The Den Bengaluru           No   \n",
       "\n",
       "      book_table    rate  votes            rest_type  \\\n",
       "0            Yes   4.1/5    775        Casual Dining   \n",
       "1             No   4.1/5    787        Casual Dining   \n",
       "2             No   3.8/5    918  Cafe, Casual Dining   \n",
       "3             No   3.7/5     88          Quick Bites   \n",
       "4             No   3.8/5    166        Casual Dining   \n",
       "...          ...     ...    ...                  ...   \n",
       "51712         No  3.6 /5     27                  Bar   \n",
       "51713         No     NaN      0                  Bar   \n",
       "51714         No     NaN      0                  Bar   \n",
       "51715        Yes  4.3 /5    236                  Bar   \n",
       "51716         No  3.4 /5     13   Bar, Casual Dining   \n",
       "\n",
       "                                     cuisines approx_cost(for two people)  \\\n",
       "0              North Indian, Mughlai, Chinese                         800   \n",
       "1                 Chinese, North Indian, Thai                         800   \n",
       "2                      Cafe, Mexican, Italian                         800   \n",
       "3                  South Indian, North Indian                         300   \n",
       "4                    North Indian, Rajasthani                         600   \n",
       "...                                       ...                         ...   \n",
       "51712                             Continental                       1,500   \n",
       "51713                             Finger Food                         600   \n",
       "51714                             Finger Food                       2,000   \n",
       "51715                             Finger Food                       2,500   \n",
       "51716  Finger Food, North Indian, Continental                       1,500   \n",
       "\n",
       "      listed_in(city)  \n",
       "0        Banashankari  \n",
       "1        Banashankari  \n",
       "2        Banashankari  \n",
       "3        Banashankari  \n",
       "4        Banashankari  \n",
       "...               ...  \n",
       "51712      Whitefield  \n",
       "51713      Whitefield  \n",
       "51714      Whitefield  \n",
       "51715      Whitefield  \n",
       "51716      Whitefield  \n",
       "\n",
       "[51717 rows x 10 columns]"
      ]
     },
     "execution_count": 172,
     "metadata": {},
     "output_type": "execute_result"
    }
   ],
   "source": [
    "# Drop unwanted columns\n",
    "df.drop(columns=['address', 'phone', 'reviews_list', 'listed_in(type)', 'location', 'dish_liked', 'menu_item'], inplace = True)\n",
    "df"
   ]
  },
  {
   "cell_type": "markdown",
   "id": "ab17aaee-eda4-456f-8aa2-307858080150",
   "metadata": {},
   "source": [
    "## Column wise Data Cleaning"
   ]
  },
  {
   "cell_type": "markdown",
   "id": "10c456b9-67fa-48e8-ac72-6ed84383d5e0",
   "metadata": {},
   "source": [
    "#### Name"
   ]
  },
  {
   "cell_type": "code",
   "execution_count": 173,
   "id": "6f164000-2694-4600-a497-fab5a7f4a80b",
   "metadata": {},
   "outputs": [],
   "source": [
    "# Rename Column\n",
    "df.rename(columns = {'name' : 'Name'}, inplace=True)"
   ]
  },
  {
   "cell_type": "code",
   "execution_count": 174,
   "id": "238e328c-2c72-470c-a4e3-fd236cd0d0a6",
   "metadata": {},
   "outputs": [
    {
     "name": "stdout",
     "output_type": "stream",
     "text": [
      "NULL values :  0\n",
      "Blank values:  0\n"
     ]
    }
   ],
   "source": [
    "# check for null values & blank values\n",
    "print(\"NULL values : \",df['Name'].isnull().sum())\n",
    "print(\"Blank values: \", (df['Name']==\"\").sum())"
   ]
  },
  {
   "cell_type": "code",
   "execution_count": 175,
   "id": "6e90b24c-06ce-4e11-897a-f0adfa72f4a4",
   "metadata": {
    "scrolled": true
   },
   "outputs": [
    {
     "name": "stdout",
     "output_type": "stream",
     "text": [
      "No. of unique values :  8792\n"
     ]
    },
    {
     "data": {
      "text/plain": [
       "array(['Jalsa', 'Spice Elephant', 'San Churro Cafe', ..., 'Nawabs Empire',\n",
       "       'SeeYa Restaurant',\n",
       "       'Plunge - Sheraton Grand Bengaluru Whitefield Hotel &...'],\n",
       "      dtype=object)"
      ]
     },
     "execution_count": 175,
     "metadata": {},
     "output_type": "execute_result"
    }
   ],
   "source": [
    "print(\"No. of unique values : \",df['Name'].nunique())\n",
    "df['Name'].unique()"
   ]
  },
  {
   "cell_type": "code",
   "execution_count": 176,
   "id": "0fedf24b-8219-4df8-a4df-fe05b0b70f48",
   "metadata": {},
   "outputs": [],
   "source": [
    "df['Name'].replace(r\"[^a-zA-Z0-9 ]\", \"\", regex=True, inplace=True)"
   ]
  },
  {
   "cell_type": "markdown",
   "id": "65fa33f3-d772-4df8-ba34-e43b3f25fd90",
   "metadata": {},
   "source": [
    "#### Online_Order"
   ]
  },
  {
   "cell_type": "code",
   "execution_count": 177,
   "id": "d164fc4b-cbce-45a1-9369-3905d9ba720b",
   "metadata": {},
   "outputs": [],
   "source": [
    "# Rename Column\n",
    "df.rename(columns = {'online_order' : 'Online_Order'}, inplace=True)"
   ]
  },
  {
   "cell_type": "code",
   "execution_count": 178,
   "id": "89acbcc8-395a-4daf-9d8e-9ffd97b649c9",
   "metadata": {},
   "outputs": [
    {
     "name": "stdout",
     "output_type": "stream",
     "text": [
      "NULL values :  0\n",
      "Blank values:  0\n"
     ]
    }
   ],
   "source": [
    "# check for null values & blank values\n",
    "print(\"NULL values : \",df['Online_Order'].isnull().sum())\n",
    "print(\"Blank values: \", (df['Online_Order']==\"\").sum())"
   ]
  },
  {
   "cell_type": "code",
   "execution_count": 179,
   "id": "1ba31a84-b521-41c9-8f52-1437eb849e70",
   "metadata": {},
   "outputs": [
    {
     "name": "stdout",
     "output_type": "stream",
     "text": [
      "No. of unique values :  2\n"
     ]
    },
    {
     "data": {
      "text/plain": [
       "array(['Yes', 'No'], dtype=object)"
      ]
     },
     "execution_count": 179,
     "metadata": {},
     "output_type": "execute_result"
    }
   ],
   "source": [
    "print(\"No. of unique values : \",df['Online_Order'].nunique())\n",
    "df['Online_Order'].unique()"
   ]
  },
  {
   "cell_type": "code",
   "execution_count": 180,
   "id": "0ea5dfc0-9059-4b09-81e1-982c12473074",
   "metadata": {},
   "outputs": [],
   "source": [
    "# Assign Datatype\n",
    "df['Online_Order'] = df['Online_Order'].astype('category')"
   ]
  },
  {
   "cell_type": "markdown",
   "id": "698cb558-8e33-463d-be9d-cbaf5ff4fee7",
   "metadata": {},
   "source": [
    "#### Book_Table"
   ]
  },
  {
   "cell_type": "code",
   "execution_count": 181,
   "id": "3e97d8ba-b4c1-4df2-8167-6944f290746c",
   "metadata": {},
   "outputs": [],
   "source": [
    "# Rename Column\n",
    "df.rename(columns = {'book_table' : 'Book_Table'}, inplace=True)"
   ]
  },
  {
   "cell_type": "code",
   "execution_count": 182,
   "id": "97874331-cbdb-4e3d-8674-ac9caaa9f3b3",
   "metadata": {},
   "outputs": [
    {
     "name": "stdout",
     "output_type": "stream",
     "text": [
      "NULL values :  0\n",
      "Blank values:  0\n"
     ]
    }
   ],
   "source": [
    "# check for null values & blank values\n",
    "print(\"NULL values : \",df['Book_Table'].isnull().sum())\n",
    "print(\"Blank values: \", (df['Book_Table']==\"\").sum())"
   ]
  },
  {
   "cell_type": "code",
   "execution_count": 183,
   "id": "41d110bb-45d6-45c9-8f61-41c9f48edb68",
   "metadata": {},
   "outputs": [
    {
     "name": "stdout",
     "output_type": "stream",
     "text": [
      "No. of unique values :  2\n"
     ]
    },
    {
     "data": {
      "text/plain": [
       "array(['Yes', 'No'], dtype=object)"
      ]
     },
     "execution_count": 183,
     "metadata": {},
     "output_type": "execute_result"
    }
   ],
   "source": [
    "print(\"No. of unique values : \",df['Book_Table'].nunique())\n",
    "df['Book_Table'].unique()"
   ]
  },
  {
   "cell_type": "code",
   "execution_count": 184,
   "id": "1d3e72b1-3e16-448e-be0e-219e6c8cca34",
   "metadata": {},
   "outputs": [],
   "source": [
    "# Assign Datatype\n",
    "df['Book_Table'] = df['Book_Table'].astype('category')"
   ]
  },
  {
   "cell_type": "markdown",
   "id": "ae939785-3624-4394-ae95-10f83aea2963",
   "metadata": {},
   "source": [
    "#### Rating"
   ]
  },
  {
   "cell_type": "code",
   "execution_count": 185,
   "id": "2f805946-4989-4bcd-b779-33bf63bf7d96",
   "metadata": {},
   "outputs": [],
   "source": [
    "# Rename Column\n",
    "df.rename(columns = {'rate' : 'Rating'}, inplace=True)"
   ]
  },
  {
   "cell_type": "code",
   "execution_count": 186,
   "id": "361b1df1-5684-4c76-a8ca-3c04ea0ff862",
   "metadata": {},
   "outputs": [
    {
     "name": "stdout",
     "output_type": "stream",
     "text": [
      "NULL values :  7775\n",
      "Blank values:  0\n"
     ]
    }
   ],
   "source": [
    "# check for null values & blank values\n",
    "print(\"NULL values : \",df['Rating'].isnull().sum())\n",
    "print(\"Blank values: \", (df['Rating']==\"\").sum())"
   ]
  },
  {
   "cell_type": "code",
   "execution_count": 187,
   "id": "188e16ae-217f-4f7f-b5db-4837eae489c2",
   "metadata": {},
   "outputs": [
    {
     "name": "stdout",
     "output_type": "stream",
     "text": [
      "No. of unique values :  64\n"
     ]
    },
    {
     "data": {
      "text/plain": [
       "array(['4.1/5', '3.8/5', '3.7/5', '3.6/5', '4.6/5', '4.0/5', '4.2/5',\n",
       "       '3.9/5', '3.1/5', '3.0/5', '3.2/5', '3.3/5', '2.8/5', '4.4/5',\n",
       "       '4.3/5', 'NEW', '2.9/5', '3.5/5', nan, '2.6/5', '3.8 /5', '3.4/5',\n",
       "       '4.5/5', '2.5/5', '2.7/5', '4.7/5', '2.4/5', '2.2/5', '2.3/5',\n",
       "       '3.4 /5', '-', '3.6 /5', '4.8/5', '3.9 /5', '4.2 /5', '4.0 /5',\n",
       "       '4.1 /5', '3.7 /5', '3.1 /5', '2.9 /5', '3.3 /5', '2.8 /5',\n",
       "       '3.5 /5', '2.7 /5', '2.5 /5', '3.2 /5', '2.6 /5', '4.5 /5',\n",
       "       '4.3 /5', '4.4 /5', '4.9/5', '2.1/5', '2.0/5', '1.8/5', '4.6 /5',\n",
       "       '4.9 /5', '3.0 /5', '4.8 /5', '2.3 /5', '4.7 /5', '2.4 /5',\n",
       "       '2.1 /5', '2.2 /5', '2.0 /5', '1.8 /5'], dtype=object)"
      ]
     },
     "execution_count": 187,
     "metadata": {},
     "output_type": "execute_result"
    }
   ],
   "source": [
    "print(\"No. of unique values : \",df['Rating'].nunique())\n",
    "df['Rating'].unique()"
   ]
  },
  {
   "cell_type": "code",
   "execution_count": 188,
   "id": "6b2a2629-11a1-4331-897c-cff3a00345a0",
   "metadata": {},
   "outputs": [],
   "source": [
    "# Data Formatting\n",
    "# Remove '/5' from Rating values\n",
    "df['Rating'] = df['Rating'].str.strip('/5')"
   ]
  },
  {
   "cell_type": "code",
   "execution_count": 189,
   "id": "e71f62ff-06a6-4dc9-af69-57474ff46bda",
   "metadata": {
    "scrolled": true
   },
   "outputs": [
    {
     "data": {
      "text/plain": [
       "array(['4.1', '3.8', '3.7', '3.6', '4.6', '4.0', '4.2', '3.9', '3.1',\n",
       "       '3.0', '3.2', '3.3', '2.8', '4.4', '4.3', nan, '2.9', '3.', '2.6',\n",
       "       '3.8 ', '3.4', '4.', '2.', '2.7', '4.7', '2.4', '2.2', '2.3',\n",
       "       '3.4 ', '3.6 ', '4.8', '3.9 ', '4.2 ', '4.0 ', '4.1 ', '3.7 ',\n",
       "       '3.1 ', '2.9 ', '3.3 ', '2.8 ', '3.5 ', '2.7 ', '2.5 ', '3.2 ',\n",
       "       '2.6 ', '4.5 ', '4.3 ', '4.4 ', '4.9', '2.1', '2.0', '1.8', '4.6 ',\n",
       "       '4.9 ', '3.0 ', '4.8 ', '2.3 ', '4.7 ', '2.4 ', '2.1 ', '2.2 ',\n",
       "       '2.0 ', '1.8 '], dtype=object)"
      ]
     },
     "execution_count": 189,
     "metadata": {},
     "output_type": "execute_result"
    }
   ],
   "source": [
    "# Replace null values and other inappropriate values with ''.\n",
    "df['Rating'].replace('nan', np.NaN, regex=True, inplace=True)\n",
    "df['Rating'].replace('-', np.NaN, regex=True, inplace=True)\n",
    "df['Rating'].replace('', np.NaN, regex=True, inplace=True)\n",
    "df['Rating'].replace('NEW', np.NaN, regex=True, inplace=True)\n",
    "df['Rating'].unique()"
   ]
  },
  {
   "cell_type": "code",
   "execution_count": 190,
   "id": "5f5a2468-e845-443c-8212-a74dcbc241a4",
   "metadata": {},
   "outputs": [],
   "source": [
    "# Change datatype\n",
    "df['Rating'] = df['Rating'].astype('float')"
   ]
  },
  {
   "cell_type": "code",
   "execution_count": 191,
   "id": "fd2d839c-6d98-4eda-97e9-736ec87cd342",
   "metadata": {},
   "outputs": [
    {
     "data": {
      "text/plain": [
       "3.6797719908796354"
      ]
     },
     "execution_count": 191,
     "metadata": {},
     "output_type": "execute_result"
    }
   ],
   "source": [
    "df['Rating'].mean()"
   ]
  },
  {
   "cell_type": "code",
   "execution_count": 192,
   "id": "54ccff7f-222e-4d92-bba9-b002efc499df",
   "metadata": {},
   "outputs": [
    {
     "data": {
      "text/plain": [
       "0"
      ]
     },
     "execution_count": 192,
     "metadata": {},
     "output_type": "execute_result"
    }
   ],
   "source": [
    "# Fill Null Value\n",
    "df['Rating'].fillna(3.7 , inplace=True)\n",
    "df['Rating'].isnull().sum()"
   ]
  },
  {
   "cell_type": "markdown",
   "id": "20462587-9bfd-4719-b268-68429f22c43b",
   "metadata": {},
   "source": [
    "#### Votes"
   ]
  },
  {
   "cell_type": "code",
   "execution_count": 193,
   "id": "60c91a23-0f7b-41f3-a081-161650edd7fd",
   "metadata": {},
   "outputs": [],
   "source": [
    "# Rename Column\n",
    "df.rename(columns = {'votes' : 'Votes'}, inplace=True)"
   ]
  },
  {
   "cell_type": "code",
   "execution_count": 194,
   "id": "cf303d13-3350-4083-b3b1-b4113a16cc5e",
   "metadata": {},
   "outputs": [
    {
     "name": "stdout",
     "output_type": "stream",
     "text": [
      "NULL values :  0\n",
      "Blank values:  0\n"
     ]
    }
   ],
   "source": [
    "# check for null values & blank values\n",
    "print(\"NULL values : \",df['Votes'].isnull().sum())\n",
    "print(\"Blank values: \", (df['Votes']==\"\").sum())"
   ]
  },
  {
   "cell_type": "code",
   "execution_count": 195,
   "id": "75dc7777-8e63-432c-b824-d50de8b9353e",
   "metadata": {},
   "outputs": [
    {
     "name": "stdout",
     "output_type": "stream",
     "text": [
      "No. of unique values :  2328\n"
     ]
    },
    {
     "data": {
      "text/plain": [
       "array([ 775,  787,  918, ..., 4957, 2382,  843], dtype=int64)"
      ]
     },
     "execution_count": 195,
     "metadata": {},
     "output_type": "execute_result"
    }
   ],
   "source": [
    "print(\"No. of unique values : \",df['Votes'].nunique())\n",
    "df['Votes'].unique()"
   ]
  },
  {
   "cell_type": "code",
   "execution_count": 196,
   "id": "6451a9da-271a-40f8-a10c-e255c3ec761a",
   "metadata": {},
   "outputs": [
    {
     "data": {
      "text/plain": [
       "dtype('int32')"
      ]
     },
     "execution_count": 196,
     "metadata": {},
     "output_type": "execute_result"
    }
   ],
   "source": [
    "# Assign Datatype\n",
    "df['Votes'] = df['Votes'].astype('int')\n",
    "df['Votes'].dtype"
   ]
  },
  {
   "cell_type": "markdown",
   "id": "8c3fc88f-5611-46e7-9575-dd8263d12065",
   "metadata": {},
   "source": [
    "#### Rest_Type"
   ]
  },
  {
   "cell_type": "code",
   "execution_count": 197,
   "id": "879b272d-bb0b-4e48-82cf-f822b5676f7b",
   "metadata": {},
   "outputs": [],
   "source": [
    "# Rename Column\n",
    "df.rename(columns = {'rest_type' : 'Rest_Type'}, inplace=True)"
   ]
  },
  {
   "cell_type": "code",
   "execution_count": 198,
   "id": "d7020ae2-4011-46ef-acee-0d59f76dfbc2",
   "metadata": {},
   "outputs": [
    {
     "name": "stdout",
     "output_type": "stream",
     "text": [
      "NULL values :  227\n",
      "Blank values:  0\n"
     ]
    }
   ],
   "source": [
    "# check for null values & blank values\n",
    "print(\"NULL values : \",df['Rest_Type'].isnull().sum())\n",
    "print(\"Blank values: \", (df['Rest_Type']==\"\").sum())"
   ]
  },
  {
   "cell_type": "code",
   "execution_count": 199,
   "id": "08da6ef2-953d-433f-acd7-0fd8a7512d14",
   "metadata": {},
   "outputs": [
    {
     "name": "stdout",
     "output_type": "stream",
     "text": [
      "No. of unique values :  93\n"
     ]
    },
    {
     "data": {
      "text/plain": [
       "array(['Casual Dining', 'Cafe, Casual Dining', 'Quick Bites',\n",
       "       'Casual Dining, Cafe', 'Cafe', 'Quick Bites, Cafe',\n",
       "       'Cafe, Quick Bites', 'Delivery', 'Mess', 'Dessert Parlor',\n",
       "       'Bakery, Dessert Parlor', 'Pub', 'Bakery', 'Takeaway, Delivery',\n",
       "       'Fine Dining', 'Beverage Shop', 'Sweet Shop', 'Bar',\n",
       "       'Beverage Shop, Quick Bites', 'Confectionery',\n",
       "       'Quick Bites, Beverage Shop', 'Dessert Parlor, Sweet Shop',\n",
       "       'Bakery, Quick Bites', 'Sweet Shop, Quick Bites', 'Kiosk',\n",
       "       'Food Truck', 'Quick Bites, Dessert Parlor',\n",
       "       'Beverage Shop, Dessert Parlor', 'Takeaway', 'Pub, Casual Dining',\n",
       "       'Casual Dining, Bar', 'Dessert Parlor, Beverage Shop',\n",
       "       'Quick Bites, Bakery', 'Dessert Parlor, Quick Bites',\n",
       "       'Microbrewery, Casual Dining', 'Lounge', 'Bar, Casual Dining',\n",
       "       'Food Court', 'Cafe, Bakery', nan, 'Dhaba',\n",
       "       'Quick Bites, Sweet Shop', 'Microbrewery',\n",
       "       'Food Court, Quick Bites', 'Pub, Bar', 'Casual Dining, Pub',\n",
       "       'Lounge, Bar', 'Food Court, Dessert Parlor',\n",
       "       'Casual Dining, Sweet Shop', 'Food Court, Casual Dining',\n",
       "       'Casual Dining, Microbrewery', 'Sweet Shop, Dessert Parlor',\n",
       "       'Bakery, Beverage Shop', 'Lounge, Casual Dining',\n",
       "       'Cafe, Food Court', 'Beverage Shop, Cafe', 'Cafe, Dessert Parlor',\n",
       "       'Dessert Parlor, Cafe', 'Dessert Parlor, Bakery',\n",
       "       'Microbrewery, Pub', 'Bakery, Food Court', 'Club',\n",
       "       'Quick Bites, Food Court', 'Bakery, Cafe', 'Bar, Cafe',\n",
       "       'Pub, Cafe', 'Casual Dining, Irani Cafee', 'Fine Dining, Lounge',\n",
       "       'Bar, Quick Bites', 'Bakery, Kiosk', 'Pub, Microbrewery',\n",
       "       'Microbrewery, Lounge', 'Fine Dining, Microbrewery',\n",
       "       'Fine Dining, Bar', 'Mess, Quick Bites', 'Dessert Parlor, Kiosk',\n",
       "       'Bhojanalya', 'Casual Dining, Quick Bites', 'Pop Up', 'Cafe, Bar',\n",
       "       'Casual Dining, Lounge', 'Bakery, Sweet Shop', 'Microbrewery, Bar',\n",
       "       'Cafe, Lounge', 'Bar, Pub', 'Lounge, Cafe', 'Club, Casual Dining',\n",
       "       'Quick Bites, Mess', 'Quick Bites, Meat Shop',\n",
       "       'Quick Bites, Kiosk', 'Lounge, Microbrewery',\n",
       "       'Food Court, Beverage Shop', 'Dessert Parlor, Food Court',\n",
       "       'Bar, Lounge'], dtype=object)"
      ]
     },
     "execution_count": 199,
     "metadata": {},
     "output_type": "execute_result"
    }
   ],
   "source": [
    "print(\"No. of unique values : \",df['Rest_Type'].nunique())\n",
    "df['Rest_Type'].unique()"
   ]
  },
  {
   "cell_type": "code",
   "execution_count": 200,
   "id": "dd91c087-1e76-4a25-8eea-10ecf783c849",
   "metadata": {},
   "outputs": [
    {
     "data": {
      "text/plain": [
       "0    Quick Bites\n",
       "Name: Rest_Type, dtype: object"
      ]
     },
     "execution_count": 200,
     "metadata": {},
     "output_type": "execute_result"
    }
   ],
   "source": [
    "df['Rest_Type'].mode()"
   ]
  },
  {
   "cell_type": "code",
   "execution_count": 201,
   "id": "b79c55cd-9b5f-4377-99d5-136304e15224",
   "metadata": {},
   "outputs": [
    {
     "data": {
      "text/plain": [
       "0"
      ]
     },
     "execution_count": 201,
     "metadata": {},
     "output_type": "execute_result"
    }
   ],
   "source": [
    "# Fill Null Value with mode value\n",
    "df['Rest_Type'].fillna(\"Quick Bites\", inplace=True)\n",
    "df['Rest_Type'].isnull().sum()"
   ]
  },
  {
   "cell_type": "code",
   "execution_count": 202,
   "id": "70f3d1a1-dc84-474a-bf09-dbd4a0362308",
   "metadata": {},
   "outputs": [],
   "source": [
    "# Assign Datatype\n",
    "df['Rest_Type'] = df['Rest_Type'].astype('category')"
   ]
  },
  {
   "cell_type": "markdown",
   "id": "b4f50b8f-75f8-4add-b6f0-5c7c42b7cb99",
   "metadata": {},
   "source": [
    "#### Cuisines"
   ]
  },
  {
   "cell_type": "code",
   "execution_count": 203,
   "id": "d66155cf-04b0-4fce-9c68-ad9e5344134e",
   "metadata": {},
   "outputs": [],
   "source": [
    "# Rename Column\n",
    "df.rename(columns = {'cuisines' : 'Cuisines'}, inplace=True)"
   ]
  },
  {
   "cell_type": "code",
   "execution_count": 204,
   "id": "666b5000-016c-477d-8cd9-8a02a702f247",
   "metadata": {},
   "outputs": [
    {
     "name": "stdout",
     "output_type": "stream",
     "text": [
      "NULL values :  45\n",
      "Blank values:  0\n"
     ]
    }
   ],
   "source": [
    "# check for null values & blank values\n",
    "print(\"NULL values : \",df['Cuisines'].isnull().sum())\n",
    "print(\"Blank values: \", (df['Cuisines']==\"\").sum())"
   ]
  },
  {
   "cell_type": "code",
   "execution_count": 205,
   "id": "13333be8-8982-43fb-a9fe-3d29beb8cefe",
   "metadata": {},
   "outputs": [
    {
     "name": "stdout",
     "output_type": "stream",
     "text": [
      "No. of unique values :  2723\n"
     ]
    },
    {
     "data": {
      "text/plain": [
       "array(['North Indian, Mughlai, Chinese', 'Chinese, North Indian, Thai',\n",
       "       'Cafe, Mexican, Italian', ...,\n",
       "       'North Indian, Street Food, Biryani', 'Chinese, Mughlai',\n",
       "       'North Indian, Chinese, Arabian, Momos'], dtype=object)"
      ]
     },
     "execution_count": 205,
     "metadata": {},
     "output_type": "execute_result"
    }
   ],
   "source": [
    "print(\"No. of unique values : \",df['Cuisines'].nunique())\n",
    "df['Cuisines'].unique()"
   ]
  },
  {
   "cell_type": "code",
   "execution_count": 206,
   "id": "d6e4439a-9ab9-45c3-95b2-0a298a4db57a",
   "metadata": {},
   "outputs": [
    {
     "data": {
      "text/plain": [
       "0    North Indian\n",
       "Name: Cuisines, dtype: object"
      ]
     },
     "execution_count": 206,
     "metadata": {},
     "output_type": "execute_result"
    }
   ],
   "source": [
    "df['Cuisines'].mode()"
   ]
  },
  {
   "cell_type": "code",
   "execution_count": 207,
   "id": "bd479efc-792d-49ff-b2a5-ad59c33e8d1f",
   "metadata": {},
   "outputs": [
    {
     "data": {
      "text/plain": [
       "0"
      ]
     },
     "execution_count": 207,
     "metadata": {},
     "output_type": "execute_result"
    }
   ],
   "source": [
    "# Fill Null Value with mode value\n",
    "df['Cuisines'].fillna(\"North Indian\", inplace=True)\n",
    "df['Cuisines'].isnull().sum()"
   ]
  },
  {
   "cell_type": "markdown",
   "id": "4da14fea-020f-4075-9d28-5e9ee4335947",
   "metadata": {},
   "source": [
    "#### Approx_Cost(for two people)"
   ]
  },
  {
   "cell_type": "code",
   "execution_count": 208,
   "id": "2531db05-161d-4371-b5a6-c1faec0cad76",
   "metadata": {},
   "outputs": [],
   "source": [
    "# Rename Column\n",
    "df.rename(columns = {'approx_cost(for two people)' : 'Approx_Cost(for two people)'}, inplace=True)"
   ]
  },
  {
   "cell_type": "code",
   "execution_count": 209,
   "id": "2d548468-ed6a-49fc-897b-812accbc7a59",
   "metadata": {},
   "outputs": [
    {
     "name": "stdout",
     "output_type": "stream",
     "text": [
      "NULL values :  346\n",
      "Blank values:  0\n"
     ]
    }
   ],
   "source": [
    "# check for null values & blank values\n",
    "print(\"NULL values : \",df['Approx_Cost(for two people)'].isnull().sum())\n",
    "print(\"Blank values: \", (df['Approx_Cost(for two people)']==\"\").sum())"
   ]
  },
  {
   "cell_type": "code",
   "execution_count": 210,
   "id": "9a8bd4d2-1d14-46a9-b1de-5c5d4989ed94",
   "metadata": {},
   "outputs": [
    {
     "name": "stdout",
     "output_type": "stream",
     "text": [
      "No. of unique values :  70\n"
     ]
    },
    {
     "data": {
      "text/plain": [
       "array(['800', '300', '600', '700', '550', '500', '450', '650', '400',\n",
       "       '900', '200', '750', '150', '850', '100', '1,200', '350', '250',\n",
       "       '950', '1,000', '1,500', '1,300', '199', '80', '1,100', '160',\n",
       "       '1,600', '230', '130', '50', '190', '1,700', nan, '1,400', '180',\n",
       "       '1,350', '2,200', '2,000', '1,800', '1,900', '330', '2,500',\n",
       "       '2,100', '3,000', '2,800', '3,400', '40', '1,250', '3,500',\n",
       "       '4,000', '2,400', '2,600', '120', '1,450', '469', '70', '3,200',\n",
       "       '60', '560', '240', '360', '6,000', '1,050', '2,300', '4,100',\n",
       "       '5,000', '3,700', '1,650', '2,700', '4,500', '140'], dtype=object)"
      ]
     },
     "execution_count": 210,
     "metadata": {},
     "output_type": "execute_result"
    }
   ],
   "source": [
    "print(\"No. of unique values : \",df['Approx_Cost(for two people)'].nunique())\n",
    "df['Approx_Cost(for two people)'].unique()"
   ]
  },
  {
   "cell_type": "code",
   "execution_count": 211,
   "id": "9c7c0050-ea51-49ba-bbd8-50b9b8ef7918",
   "metadata": {},
   "outputs": [
    {
     "data": {
      "text/plain": [
       "0         800\n",
       "1         800\n",
       "2         800\n",
       "3         300\n",
       "4         600\n",
       "         ... \n",
       "51712    1500\n",
       "51713     600\n",
       "51714    2000\n",
       "51715    2500\n",
       "51716    1500\n",
       "Name: Approx_Cost(for two people), Length: 51717, dtype: object"
      ]
     },
     "execution_count": 211,
     "metadata": {},
     "output_type": "execute_result"
    }
   ],
   "source": [
    "# Data Formatting\n",
    "# Remove ',' from Approx_Cost(for two people) values\n",
    "df['Approx_Cost(for two people)'].replace(',', '', regex=True, inplace=True)\n",
    "df['Approx_Cost(for two people)'].replace('nan', np.NaN, regex=True)\n",
    "df['Approx_Cost(for two people)']"
   ]
  },
  {
   "cell_type": "code",
   "execution_count": 212,
   "id": "fd31d419-540b-49c3-b3e8-4317275375cc",
   "metadata": {},
   "outputs": [
    {
     "data": {
      "text/plain": [
       "dtype('float64')"
      ]
     },
     "execution_count": 212,
     "metadata": {},
     "output_type": "execute_result"
    }
   ],
   "source": [
    "#Assign Datatype\n",
    "df['Approx_Cost(for two people)'] = df['Approx_Cost(for two people)'].astype('float')\n",
    "df['Approx_Cost(for two people)'].dtype"
   ]
  },
  {
   "cell_type": "code",
   "execution_count": 213,
   "id": "b604c921-95a8-4189-9fe1-b0ba795d50bf",
   "metadata": {},
   "outputs": [
    {
     "data": {
      "text/plain": [
       "555.4315664479959"
      ]
     },
     "execution_count": 213,
     "metadata": {},
     "output_type": "execute_result"
    }
   ],
   "source": [
    "df['Approx_Cost(for two people)'].mean()"
   ]
  },
  {
   "cell_type": "code",
   "execution_count": 214,
   "id": "373ac7c1-534a-4126-86be-0590c5db34b2",
   "metadata": {},
   "outputs": [
    {
     "data": {
      "text/plain": [
       "0"
      ]
     },
     "execution_count": 214,
     "metadata": {},
     "output_type": "execute_result"
    }
   ],
   "source": [
    "# Fill Null Value with mode value\n",
    "df['Approx_Cost(for two people)'].fillna(555 , inplace=True)\n",
    "df['Approx_Cost(for two people)'].isnull().sum()"
   ]
  },
  {
   "cell_type": "markdown",
   "id": "f83d3fe5-4d33-4af7-9932-c27826dcd669",
   "metadata": {},
   "source": [
    "#### Location_city"
   ]
  },
  {
   "cell_type": "code",
   "execution_count": 215,
   "id": "9bd74421-dd79-4a6a-895d-ddbee3b0e3bd",
   "metadata": {},
   "outputs": [],
   "source": [
    "# Rename Column\n",
    "df.rename(columns = {'listed_in(city)' : 'Location_City'}, inplace=True)"
   ]
  },
  {
   "cell_type": "code",
   "execution_count": 216,
   "id": "532a8329-3032-4cfa-8771-4a3b4fcae321",
   "metadata": {},
   "outputs": [
    {
     "name": "stdout",
     "output_type": "stream",
     "text": [
      "NULL values :  0\n",
      "Blank values:  0\n"
     ]
    }
   ],
   "source": [
    "# check for null values & blank values\n",
    "print(\"NULL values : \",df['Location_City'].isnull().sum())\n",
    "print(\"Blank values: \", (df['Location_City']==\"\").sum())"
   ]
  },
  {
   "cell_type": "code",
   "execution_count": 217,
   "id": "d208d773-c77a-416b-be8e-f251bdb106ba",
   "metadata": {},
   "outputs": [
    {
     "name": "stdout",
     "output_type": "stream",
     "text": [
      "No. of unique values :  30\n"
     ]
    },
    {
     "data": {
      "text/plain": [
       "array(['Banashankari', 'Bannerghatta Road', 'Basavanagudi', 'Bellandur',\n",
       "       'Brigade Road', 'Brookefield', 'BTM', 'Church Street',\n",
       "       'Electronic City', 'Frazer Town', 'HSR', 'Indiranagar',\n",
       "       'Jayanagar', 'JP Nagar', 'Kalyan Nagar', 'Kammanahalli',\n",
       "       'Koramangala 4th Block', 'Koramangala 5th Block',\n",
       "       'Koramangala 6th Block', 'Koramangala 7th Block', 'Lavelle Road',\n",
       "       'Malleshwaram', 'Marathahalli', 'MG Road', 'New BEL Road',\n",
       "       'Old Airport Road', 'Rajajinagar', 'Residency Road',\n",
       "       'Sarjapur Road', 'Whitefield'], dtype=object)"
      ]
     },
     "execution_count": 217,
     "metadata": {},
     "output_type": "execute_result"
    }
   ],
   "source": [
    "print(\"No. of unique values : \",df['Location_City'].nunique())\n",
    "df['Location_City'].unique()"
   ]
  },
  {
   "cell_type": "code",
   "execution_count": 218,
   "id": "df54b14f-2970-4e74-9bab-3f1883bcacb4",
   "metadata": {},
   "outputs": [],
   "source": [
    "# Assign Datatype\n",
    "df['Location_City'] = df['Location_City'].astype('category')"
   ]
  },
  {
   "cell_type": "markdown",
   "id": "24d7e42d-cbe2-4111-a8e3-eb349b202bb3",
   "metadata": {},
   "source": [
    "## Exploratory Data Analysis"
   ]
  },
  {
   "cell_type": "code",
   "execution_count": 219,
   "id": "4a20bb9b-2509-4fb0-9332-90475f95a6b6",
   "metadata": {},
   "outputs": [
    {
     "data": {
      "text/html": [
       "<div>\n",
       "<style scoped>\n",
       "    .dataframe tbody tr th:only-of-type {\n",
       "        vertical-align: middle;\n",
       "    }\n",
       "\n",
       "    .dataframe tbody tr th {\n",
       "        vertical-align: top;\n",
       "    }\n",
       "\n",
       "    .dataframe thead th {\n",
       "        text-align: right;\n",
       "    }\n",
       "</style>\n",
       "<table border=\"1\" class=\"dataframe\">\n",
       "  <thead>\n",
       "    <tr style=\"text-align: right;\">\n",
       "      <th></th>\n",
       "      <th>url</th>\n",
       "      <th>Name</th>\n",
       "      <th>Online_Order</th>\n",
       "      <th>Book_Table</th>\n",
       "      <th>Rating</th>\n",
       "      <th>Votes</th>\n",
       "      <th>Rest_Type</th>\n",
       "      <th>Cuisines</th>\n",
       "      <th>Approx_Cost(for two people)</th>\n",
       "      <th>Location_City</th>\n",
       "    </tr>\n",
       "  </thead>\n",
       "  <tbody>\n",
       "    <tr>\n",
       "      <th>0</th>\n",
       "      <td>https://www.zomato.com/bangalore/jalsa-banasha...</td>\n",
       "      <td>Jalsa</td>\n",
       "      <td>Yes</td>\n",
       "      <td>Yes</td>\n",
       "      <td>4.1</td>\n",
       "      <td>775</td>\n",
       "      <td>Casual Dining</td>\n",
       "      <td>North Indian, Mughlai, Chinese</td>\n",
       "      <td>800.0</td>\n",
       "      <td>Banashankari</td>\n",
       "    </tr>\n",
       "    <tr>\n",
       "      <th>1</th>\n",
       "      <td>https://www.zomato.com/bangalore/spice-elephan...</td>\n",
       "      <td>Spice Elephant</td>\n",
       "      <td>Yes</td>\n",
       "      <td>No</td>\n",
       "      <td>4.1</td>\n",
       "      <td>787</td>\n",
       "      <td>Casual Dining</td>\n",
       "      <td>Chinese, North Indian, Thai</td>\n",
       "      <td>800.0</td>\n",
       "      <td>Banashankari</td>\n",
       "    </tr>\n",
       "    <tr>\n",
       "      <th>2</th>\n",
       "      <td>https://www.zomato.com/SanchurroBangalore?cont...</td>\n",
       "      <td>San Churro Cafe</td>\n",
       "      <td>Yes</td>\n",
       "      <td>No</td>\n",
       "      <td>3.8</td>\n",
       "      <td>918</td>\n",
       "      <td>Cafe, Casual Dining</td>\n",
       "      <td>Cafe, Mexican, Italian</td>\n",
       "      <td>800.0</td>\n",
       "      <td>Banashankari</td>\n",
       "    </tr>\n",
       "    <tr>\n",
       "      <th>3</th>\n",
       "      <td>https://www.zomato.com/bangalore/addhuri-udupi...</td>\n",
       "      <td>Addhuri Udupi Bhojana</td>\n",
       "      <td>No</td>\n",
       "      <td>No</td>\n",
       "      <td>3.7</td>\n",
       "      <td>88</td>\n",
       "      <td>Quick Bites</td>\n",
       "      <td>South Indian, North Indian</td>\n",
       "      <td>300.0</td>\n",
       "      <td>Banashankari</td>\n",
       "    </tr>\n",
       "    <tr>\n",
       "      <th>4</th>\n",
       "      <td>https://www.zomato.com/bangalore/grand-village...</td>\n",
       "      <td>Grand Village</td>\n",
       "      <td>No</td>\n",
       "      <td>No</td>\n",
       "      <td>3.8</td>\n",
       "      <td>166</td>\n",
       "      <td>Casual Dining</td>\n",
       "      <td>North Indian, Rajasthani</td>\n",
       "      <td>600.0</td>\n",
       "      <td>Banashankari</td>\n",
       "    </tr>\n",
       "  </tbody>\n",
       "</table>\n",
       "</div>"
      ],
      "text/plain": [
       "                                                 url                   Name  \\\n",
       "0  https://www.zomato.com/bangalore/jalsa-banasha...                  Jalsa   \n",
       "1  https://www.zomato.com/bangalore/spice-elephan...         Spice Elephant   \n",
       "2  https://www.zomato.com/SanchurroBangalore?cont...        San Churro Cafe   \n",
       "3  https://www.zomato.com/bangalore/addhuri-udupi...  Addhuri Udupi Bhojana   \n",
       "4  https://www.zomato.com/bangalore/grand-village...          Grand Village   \n",
       "\n",
       "  Online_Order Book_Table  Rating  Votes            Rest_Type  \\\n",
       "0          Yes        Yes     4.1    775        Casual Dining   \n",
       "1          Yes         No     4.1    787        Casual Dining   \n",
       "2          Yes         No     3.8    918  Cafe, Casual Dining   \n",
       "3           No         No     3.7     88          Quick Bites   \n",
       "4           No         No     3.8    166        Casual Dining   \n",
       "\n",
       "                         Cuisines  Approx_Cost(for two people) Location_City  \n",
       "0  North Indian, Mughlai, Chinese                        800.0  Banashankari  \n",
       "1     Chinese, North Indian, Thai                        800.0  Banashankari  \n",
       "2          Cafe, Mexican, Italian                        800.0  Banashankari  \n",
       "3      South Indian, North Indian                        300.0  Banashankari  \n",
       "4        North Indian, Rajasthani                        600.0  Banashankari  "
      ]
     },
     "execution_count": 219,
     "metadata": {},
     "output_type": "execute_result"
    }
   ],
   "source": [
    "df.head()"
   ]
  },
  {
   "cell_type": "raw",
   "id": "c9043dfc-b90b-487a-9aab-12113ada7f70",
   "metadata": {},
   "source": [
    "1. How many restaurants in Bangalore take online orders?\n",
    "2. What percentage of restaurants offer table booking facilities?\n",
    "3. What are the top 10 highest-rated restaurants?\n",
    "9. The top five cities in Bangalore with the highest and lowest-rated restaurants.\n",
    "4. Does the restaurant’s rating depend on whether it accepts online orders?\n",
    "5. Rating Vs No. of Votes\n",
    "10. What is the average price for two people, based on the type of service?\n",
    "7. Is there any correlation between the approximated cost for two people and the ratings of a restaurant?\n",
    "11. What kind of a food is more popular in a locality?\n",
    "8. Top 15 Cuisines Of Bengaluru\n",
    "12. Average cost of food in each city of Bengaluru"
   ]
  },
  {
   "cell_type": "markdown",
   "id": "9bca10da-6b1c-45b1-ac67-abc960f6124b",
   "metadata": {},
   "source": [
    "####  How many restaurants in Bangalore take online orders?"
   ]
  },
  {
   "cell_type": "code",
   "execution_count": 220,
   "id": "b8a951c3-fd56-465e-a20f-7002bb588e2e",
   "metadata": {},
   "outputs": [
    {
     "name": "stdout",
     "output_type": "stream",
     "text": [
      "Online_Order\n",
      "Yes    30444\n",
      "No     21273\n",
      "Name: count, dtype: int64\n"
     ]
    },
    {
     "data": {
      "image/png": "[encoded data removed]",
      "text/plain": [
       "<Figure size 640x480 with 1 Axes>"
      ]
     },
     "metadata": {},
     "output_type": "display_data"
    }
   ],
   "source": [
    "\n",
    "print(df['Online_Order'].value_counts())\n",
    "df['Online_Order'].value_counts().plot(kind = 'pie', colors = ['lightblue', 'pink'], autopct='%1.0f%%', explode=(0.02, 0.05),\n",
    "                                         startangle=100, ylabel='')\n",
    "plt.show()"
   ]
  },
  {
   "cell_type": "markdown",
   "id": "fc6b804e-841b-4af1-aa41-6eed6b6e4f66",
   "metadata": {},
   "source": [
    "#### What percentage of restaurants offer table booking facilities?"
   ]
  },
  {
   "cell_type": "code",
   "execution_count": 221,
   "id": "9348728a-3ce4-4be9-b302-c511604c0374",
   "metadata": {},
   "outputs": [
    {
     "name": "stdout",
     "output_type": "stream",
     "text": [
      "Book_Table\n",
      "No     45268\n",
      "Yes     6449\n",
      "Name: count, dtype: int64\n"
     ]
    },
    {
     "data": {
      "image/png": "[encoded data removed]",
      "text/plain": [
       "<Figure size 640x480 with 1 Axes>"
      ]
     },
     "metadata": {},
     "output_type": "display_data"
    }
   ],
   "source": [
    "print(df['Book_Table'].value_counts())\n",
    "df['Book_Table'].value_counts().plot(kind = 'pie', colors = ['Thistle', 'SandyBrown'], autopct='%1.0f%%', explode=(0.2, 0.2),\n",
    "                                     startangle=70, ylabel='', pctdistance=0.85)\n",
    "centre_circle = plt.Circle((0, 0), 0.70, fc = 'white')\n",
    "fig = plt.gcf()\n",
    "fig.gca().add_artist(centre_circle)\n",
    "plt.title('')\n",
    "plt.show()"
   ]
  },
  {
   "cell_type": "markdown",
   "id": "560852ee-ff3d-4558-aa40-93044351d363",
   "metadata": {},
   "source": [
    "#### Which are the top 10 highest-rated restaurants?"
   ]
  },
  {
   "cell_type": "code",
   "execution_count": 233,
   "id": "575510fc-982e-4508-aac0-3bcec54b4c9d",
   "metadata": {},
   "outputs": [
    {
     "data": {
      "text/html": [
       "<div>\n",
       "<style scoped>\n",
       "    .dataframe tbody tr th:only-of-type {\n",
       "        vertical-align: middle;\n",
       "    }\n",
       "\n",
       "    .dataframe tbody tr th {\n",
       "        vertical-align: top;\n",
       "    }\n",
       "\n",
       "    .dataframe thead th {\n",
       "        text-align: right;\n",
       "    }\n",
       "</style>\n",
       "<table border=\"1\" class=\"dataframe\">\n",
       "  <thead>\n",
       "    <tr style=\"text-align: right;\">\n",
       "      <th></th>\n",
       "      <th>Name</th>\n",
       "      <th>Rating</th>\n",
       "    </tr>\n",
       "  </thead>\n",
       "  <tbody>\n",
       "    <tr>\n",
       "      <th>589</th>\n",
       "      <td>Asia Kitchen By Mainland China</td>\n",
       "      <td>4.90</td>\n",
       "    </tr>\n",
       "    <tr>\n",
       "      <th>6505</th>\n",
       "      <td>Sant Spa Cuisine</td>\n",
       "      <td>4.90</td>\n",
       "    </tr>\n",
       "    <tr>\n",
       "      <th>1264</th>\n",
       "      <td>Byg Brewski Brewing Company</td>\n",
       "      <td>4.90</td>\n",
       "    </tr>\n",
       "    <tr>\n",
       "      <th>5890</th>\n",
       "      <td>Punjab Grill</td>\n",
       "      <td>4.87</td>\n",
       "    </tr>\n",
       "    <tr>\n",
       "      <th>856</th>\n",
       "      <td>Belgian Waffle Factory</td>\n",
       "      <td>4.84</td>\n",
       "    </tr>\n",
       "    <tr>\n",
       "      <th>5436</th>\n",
       "      <td>OG Variar  Sons</td>\n",
       "      <td>4.80</td>\n",
       "    </tr>\n",
       "    <tr>\n",
       "      <th>7989</th>\n",
       "      <td>The Pizza Bakery</td>\n",
       "      <td>4.80</td>\n",
       "    </tr>\n",
       "    <tr>\n",
       "      <th>2576</th>\n",
       "      <td>Flechazo</td>\n",
       "      <td>4.80</td>\n",
       "    </tr>\n",
       "    <tr>\n",
       "      <th>794</th>\n",
       "      <td>Barbecue by Punjab Grill</td>\n",
       "      <td>4.75</td>\n",
       "    </tr>\n",
       "    <tr>\n",
       "      <th>1278</th>\n",
       "      <td>CTR</td>\n",
       "      <td>4.75</td>\n",
       "    </tr>\n",
       "  </tbody>\n",
       "</table>\n",
       "</div>"
      ],
      "text/plain": [
       "                                Name  Rating\n",
       "589   Asia Kitchen By Mainland China    4.90\n",
       "6505                Sant Spa Cuisine    4.90\n",
       "1264     Byg Brewski Brewing Company    4.90\n",
       "5890                    Punjab Grill    4.87\n",
       "856           Belgian Waffle Factory    4.84\n",
       "5436                 OG Variar  Sons    4.80\n",
       "7989                The Pizza Bakery    4.80\n",
       "2576                        Flechazo    4.80\n",
       "794         Barbecue by Punjab Grill    4.75\n",
       "1278                             CTR    4.75"
      ]
     },
     "execution_count": 233,
     "metadata": {},
     "output_type": "execute_result"
    }
   ],
   "source": [
    "df.groupby('Name')['Rating'].mean().reset_index().sort_values(by='Rating',ascending=False).round(2)[0:10]"
   ]
  },
  {
   "cell_type": "code",
   "execution_count": 223,
   "id": "c34b2acf-4c85-422c-8194-8696059242fd",
   "metadata": {},
   "outputs": [
    {
     "data": {
      "image/png": "[encoded data removed]",
      "text/plain": [
       "<Figure size 640x480 with 1 Axes>"
      ]
     },
     "metadata": {},
     "output_type": "display_data"
    }
   ],
   "source": [
    "x = (df.groupby('Name')['Rating'].mean().reset_index().sort_values(by='Rating',ascending=False).round(2)[0:10])['Name']\n",
    "y = (df.groupby('Name')['Rating'].mean().reset_index().sort_values(by='Rating',ascending=False).round(2)[0:10])['Rating']\n",
    "plt.barh(x, y, color='LightCoral')\n",
    "plt.title('top 10 highest-rated restaurants')\n",
    "plt.xlim(4.5, 5)\n",
    "plt.show()"
   ]
  },
  {
   "cell_type": "markdown",
   "id": "1566de61-727a-446d-9c44-2ae28f632b0a",
   "metadata": {},
   "source": [
    "#### The top five cities in Bangalore with the highest and lowest-rated restaurants"
   ]
  },
  {
   "cell_type": "code",
   "execution_count": 224,
   "id": "176542d6-a598-4470-b47c-4bd72c80e689",
   "metadata": {},
   "outputs": [
    {
     "name": "stdout",
     "output_type": "stream",
     "text": [
      "The top five cities in Bangalore with the highest rated restaurants : \n",
      "\n",
      "\n",
      "     Location_City  Rating\n",
      "21         MG Road    3.79\n",
      "27  Residency Road    3.77\n",
      "20    Lavelle Road    3.76\n",
      "7    Church Street    3.76\n",
      "5     Brigade Road    3.75\n",
      "\n",
      "\n",
      "The top five cities in Bangalore with the lowest rated restaurants : \n",
      "\n",
      "\n",
      "        Location_City  Rating\n",
      "8     Electronic City    3.53\n",
      "2   Bannerghatta Road    3.56\n",
      "6         Brookefield    3.57\n",
      "23       Marathahalli    3.58\n",
      "4           Bellandur    3.61\n"
     ]
    }
   ],
   "source": [
    "print('The top five cities in Bangalore with the highest rated restaurants : ') \n",
    "print('\\n')\n",
    "print(df.groupby('Location_City')['Rating'].mean().reset_index().sort_values(by='Rating',ascending=False).round(2).head())\n",
    "print('\\n')\n",
    "print('The top five cities in Bangalore with the lowest rated restaurants : ')\n",
    "print('\\n')\n",
    "print(df.groupby('Location_City')['Rating'].mean().reset_index().sort_values(by='Rating',ascending=True).round(2).head())"
   ]
  },
  {
   "cell_type": "markdown",
   "id": "43c2f5f2-4a05-48b2-a57d-6d4f212df866",
   "metadata": {},
   "source": [
    "#### Does the restaurant’s rating depend on whether it accepts online orders?"
   ]
  },
  {
   "cell_type": "code",
   "execution_count": 225,
   "id": "374a36c0-66ed-42cb-9663-41a0d515947a",
   "metadata": {},
   "outputs": [
    {
     "name": "stdout",
     "output_type": "stream",
     "text": [
      "Online_Order\n",
      "No     3.658031\n",
      "Yes    3.701642\n",
      "Name: Rating, dtype: float64\n"
     ]
    },
    {
     "data": {
      "image/png": "[encoded data removed]",
      "text/plain": [
       "<Figure size 640x480 with 1 Axes>"
      ]
     },
     "metadata": {},
     "output_type": "display_data"
    }
   ],
   "source": [
    "print(df.groupby('Online_Order')['Rating'].mean())\n",
    "x = (df.groupby('Online_Order')['Rating'].mean().reset_index())['Online_Order']\n",
    "y = (df.groupby('Online_Order')['Rating'].mean().reset_index())['Rating']\n",
    "plt.bar(x, y, color='BurlyWood')\n",
    "plt.ylim(3.5, 3.8)\n",
    "plt.xlabel('Online_order')\n",
    "plt.ylabel('Average Rating')\n",
    "plt.xticks(size=7)\n",
    "plt.yticks(size=7)\n",
    "plt.show()"
   ]
  },
  {
   "cell_type": "markdown",
   "id": "ff5a8235-32ba-4b89-bf82-c54e59c5d5cc",
   "metadata": {},
   "source": [
    "#### Rating Vs No. of Votes"
   ]
  },
  {
   "cell_type": "code",
   "execution_count": 226,
   "id": "8a8ebb4a-ce9a-4158-ad18-63b68dd3c913",
   "metadata": {},
   "outputs": [
    {
     "data": {
      "image/png": "[encoded data removed]",
      "text/plain": [
       "<Figure size 640x480 with 1 Axes>"
      ]
     },
     "metadata": {},
     "output_type": "display_data"
    }
   ],
   "source": [
    "plt.scatter(df['Rating'], df['Votes'], color='DarkSeaGreen')\n",
    "plt.xlabel('Rating')\n",
    "plt.ylabel('Votes count')\n",
    "plt.show()"
   ]
  },
  {
   "cell_type": "markdown",
   "id": "ab910184-05a7-4937-b68b-e2a004e16a59",
   "metadata": {},
   "source": [
    "#### What is the average price for two people, based on the type of service?"
   ]
  },
  {
   "cell_type": "code",
   "execution_count": 227,
   "id": "b92f0f55-0152-40e2-acb3-a325ef1fc8aa",
   "metadata": {},
   "outputs": [
    {
     "data": {
      "text/html": [
       "<div>\n",
       "<style scoped>\n",
       "    .dataframe tbody tr th:only-of-type {\n",
       "        vertical-align: middle;\n",
       "    }\n",
       "\n",
       "    .dataframe tbody tr th {\n",
       "        vertical-align: top;\n",
       "    }\n",
       "\n",
       "    .dataframe thead th {\n",
       "        text-align: right;\n",
       "    }\n",
       "</style>\n",
       "<table border=\"1\" class=\"dataframe\">\n",
       "  <thead>\n",
       "    <tr style=\"text-align: right;\">\n",
       "      <th></th>\n",
       "      <th>Rest_Type</th>\n",
       "      <th>Approx_Cost(for two people)</th>\n",
       "    </tr>\n",
       "  </thead>\n",
       "  <tbody>\n",
       "    <tr>\n",
       "      <th>50</th>\n",
       "      <td>Fine Dining, Bar</td>\n",
       "      <td>3002.50</td>\n",
       "    </tr>\n",
       "    <tr>\n",
       "      <th>52</th>\n",
       "      <td>Fine Dining, Microbrewery</td>\n",
       "      <td>3000.00</td>\n",
       "    </tr>\n",
       "    <tr>\n",
       "      <th>51</th>\n",
       "      <td>Fine Dining, Lounge</td>\n",
       "      <td>3000.00</td>\n",
       "    </tr>\n",
       "    <tr>\n",
       "      <th>49</th>\n",
       "      <td>Fine Dining</td>\n",
       "      <td>2707.51</td>\n",
       "    </tr>\n",
       "    <tr>\n",
       "      <th>11</th>\n",
       "      <td>Bar, Lounge</td>\n",
       "      <td>2450.00</td>\n",
       "    </tr>\n",
       "    <tr>\n",
       "      <th>...</th>\n",
       "      <td>...</td>\n",
       "      <td>...</td>\n",
       "    </tr>\n",
       "    <tr>\n",
       "      <th>45</th>\n",
       "      <td>Dessert Parlor, Kiosk</td>\n",
       "      <td>200.00</td>\n",
       "    </tr>\n",
       "    <tr>\n",
       "      <th>54</th>\n",
       "      <td>Food Court, Beverage Shop</td>\n",
       "      <td>200.00</td>\n",
       "    </tr>\n",
       "    <tr>\n",
       "      <th>1</th>\n",
       "      <td>Bakery, Beverage Shop</td>\n",
       "      <td>178.12</td>\n",
       "    </tr>\n",
       "    <tr>\n",
       "      <th>44</th>\n",
       "      <td>Dessert Parlor, Food Court</td>\n",
       "      <td>100.00</td>\n",
       "    </tr>\n",
       "    <tr>\n",
       "      <th>89</th>\n",
       "      <td>Sweet Shop, Dessert Parlor</td>\n",
       "      <td>100.00</td>\n",
       "    </tr>\n",
       "  </tbody>\n",
       "</table>\n",
       "<p>93 rows × 2 columns</p>\n",
       "</div>"
      ],
      "text/plain": [
       "                     Rest_Type  Approx_Cost(for two people)\n",
       "50            Fine Dining, Bar                      3002.50\n",
       "52   Fine Dining, Microbrewery                      3000.00\n",
       "51         Fine Dining, Lounge                      3000.00\n",
       "49                 Fine Dining                      2707.51\n",
       "11                 Bar, Lounge                      2450.00\n",
       "..                         ...                          ...\n",
       "45       Dessert Parlor, Kiosk                       200.00\n",
       "54   Food Court, Beverage Shop                       200.00\n",
       "1        Bakery, Beverage Shop                       178.12\n",
       "44  Dessert Parlor, Food Court                       100.00\n",
       "89  Sweet Shop, Dessert Parlor                       100.00\n",
       "\n",
       "[93 rows x 2 columns]"
      ]
     },
     "execution_count": 227,
     "metadata": {},
     "output_type": "execute_result"
    }
   ],
   "source": [
    "df.groupby('Rest_Type')['Approx_Cost(for two people)'].mean().reset_index().sort_values(by='Approx_Cost(for two people)', ascending=False).round(2)"
   ]
  },
  {
   "cell_type": "markdown",
   "id": "4e42b822-db5b-47b9-8e4d-f843560ba99d",
   "metadata": {},
   "source": [
    "#### Is there any correlation between approximated cost for two people and the ratings of a restaurant?"
   ]
  },
  {
   "cell_type": "code",
   "execution_count": 228,
   "id": "7f3bd08b-f8b8-489b-8b9e-4720043ca6e3",
   "metadata": {},
   "outputs": [
    {
     "data": {
      "image/png": "[encoded data removed]",
      "text/plain": [
       "<Figure size 500x200 with 2 Axes>"
      ]
     },
     "metadata": {},
     "output_type": "display_data"
    }
   ],
   "source": [
    "df1 = df[['Approx_Cost(for two people)', 'Rating']]\n",
    "corr = df1.corr()\n",
    "plt.figure(figsize=(5,2))\n",
    "sns.heatmap(corr, annot=True, cmap=\"RdBu_r\", center=0, linewidth=1)\n",
    "plt.show()"
   ]
  },
  {
   "cell_type": "markdown",
   "id": "949ed913-b6ff-41e3-b35a-e7454744e40a",
   "metadata": {},
   "source": [
    "#### What kind of a Food is more popular in a locality?"
   ]
  },
  {
   "cell_type": "code",
   "execution_count": 229,
   "id": "10b86846-ceb4-4423-8839-a4f69e7f025c",
   "metadata": {},
   "outputs": [
    {
     "data": {
      "text/html": [
       "<div>\n",
       "<style scoped>\n",
       "    .dataframe tbody tr th:only-of-type {\n",
       "        vertical-align: middle;\n",
       "    }\n",
       "\n",
       "    .dataframe tbody tr th {\n",
       "        vertical-align: top;\n",
       "    }\n",
       "\n",
       "    .dataframe thead th {\n",
       "        text-align: right;\n",
       "    }\n",
       "</style>\n",
       "<table border=\"1\" class=\"dataframe\">\n",
       "  <thead>\n",
       "    <tr style=\"text-align: right;\">\n",
       "      <th></th>\n",
       "      <th>Cuisines</th>\n",
       "    </tr>\n",
       "    <tr>\n",
       "      <th>Location_City</th>\n",
       "      <th></th>\n",
       "    </tr>\n",
       "  </thead>\n",
       "  <tbody>\n",
       "    <tr>\n",
       "      <th>BTM</th>\n",
       "      <td>European, Mediterranean, North Indian, BBQCont...</td>\n",
       "    </tr>\n",
       "    <tr>\n",
       "      <th>Banashankari</th>\n",
       "      <td>North Indian, Mughlai, ChineseChinese, North I...</td>\n",
       "    </tr>\n",
       "    <tr>\n",
       "      <th>Bannerghatta Road</th>\n",
       "      <td>North Indian, ItalianArabian, Biryani, Chinese...</td>\n",
       "    </tr>\n",
       "    <tr>\n",
       "      <th>Basavanagudi</th>\n",
       "      <td>North Indian, South IndianChinese, Continental...</td>\n",
       "    </tr>\n",
       "    <tr>\n",
       "      <th>Bellandur</th>\n",
       "      <td>North Indian, South Indian, ContinentalSeafood...</td>\n",
       "    </tr>\n",
       "    <tr>\n",
       "      <th>Brigade Road</th>\n",
       "      <td>North Indian, South IndianNorth Indian, Chines...</td>\n",
       "    </tr>\n",
       "    <tr>\n",
       "      <th>Brookefield</th>\n",
       "      <td>Pizza, Cafe, ItalianNorth Indian, Arabian, Mug...</td>\n",
       "    </tr>\n",
       "    <tr>\n",
       "      <th>Church Street</th>\n",
       "      <td>North Indian, Chinese, MughlaiNorth Indian, Ch...</td>\n",
       "    </tr>\n",
       "    <tr>\n",
       "      <th>Electronic City</th>\n",
       "      <td>Continental, American, South Indian, Italian, ...</td>\n",
       "    </tr>\n",
       "    <tr>\n",
       "      <th>Frazer Town</th>\n",
       "      <td>North Indian, Mughlai, South Indian, ChineseNo...</td>\n",
       "    </tr>\n",
       "    <tr>\n",
       "      <th>HSR</th>\n",
       "      <td>Seafood, Goan, North Indian, Continental, Asia...</td>\n",
       "    </tr>\n",
       "    <tr>\n",
       "      <th>Indiranagar</th>\n",
       "      <td>Mughlai, North IndianNorth Indian, BBQ, Mughla...</td>\n",
       "    </tr>\n",
       "    <tr>\n",
       "      <th>JP Nagar</th>\n",
       "      <td>North Indian, Chinese, Mughlai, Mexican, BBQNo...</td>\n",
       "    </tr>\n",
       "    <tr>\n",
       "      <th>Jayanagar</th>\n",
       "      <td>North Indian, Chinese, Mughlai, Mexican, BBQNo...</td>\n",
       "    </tr>\n",
       "    <tr>\n",
       "      <th>Kalyan Nagar</th>\n",
       "      <td>European, Mediterranean, North Indian, BBQNort...</td>\n",
       "    </tr>\n",
       "    <tr>\n",
       "      <th>Kammanahalli</th>\n",
       "      <td>Cafe, Italian, Pizza, Beverages, DessertsPizza...</td>\n",
       "    </tr>\n",
       "    <tr>\n",
       "      <th>Koramangala 4th Block</th>\n",
       "      <td>North Indian, Mughlai, SaladNorth Indian, Chin...</td>\n",
       "    </tr>\n",
       "    <tr>\n",
       "      <th>Koramangala 5th Block</th>\n",
       "      <td>North Indian, European, MediterraneanContinent...</td>\n",
       "    </tr>\n",
       "    <tr>\n",
       "      <th>Koramangala 6th Block</th>\n",
       "      <td>North Indian, Mughlai, SaladModern Indian, Eur...</td>\n",
       "    </tr>\n",
       "    <tr>\n",
       "      <th>Koramangala 7th Block</th>\n",
       "      <td>North Indian, European, MediterraneanContinent...</td>\n",
       "    </tr>\n",
       "    <tr>\n",
       "      <th>Lavelle Road</th>\n",
       "      <td>South Indian, Continental, North IndianNorth I...</td>\n",
       "    </tr>\n",
       "    <tr>\n",
       "      <th>MG Road</th>\n",
       "      <td>North Indian, Chinese, BBQNorth Indian, South ...</td>\n",
       "    </tr>\n",
       "    <tr>\n",
       "      <th>Malleshwaram</th>\n",
       "      <td>North Indian, South IndianNorth IndianNorth In...</td>\n",
       "    </tr>\n",
       "    <tr>\n",
       "      <th>Marathahalli</th>\n",
       "      <td>Continental, North Indian, Japanese, ItalianCo...</td>\n",
       "    </tr>\n",
       "    <tr>\n",
       "      <th>New BEL Road</th>\n",
       "      <td>Continental, Italian, North IndianChinese, Tha...</td>\n",
       "    </tr>\n",
       "    <tr>\n",
       "      <th>Old Airport Road</th>\n",
       "      <td>American, Continental, North Indian, Mediterra...</td>\n",
       "    </tr>\n",
       "    <tr>\n",
       "      <th>Rajajinagar</th>\n",
       "      <td>North Indian, European, Mediterranean, BBQ, Ke...</td>\n",
       "    </tr>\n",
       "    <tr>\n",
       "      <th>Residency Road</th>\n",
       "      <td>North Indian, Chinese, MughlaiNorth Indian, Ch...</td>\n",
       "    </tr>\n",
       "    <tr>\n",
       "      <th>Sarjapur Road</th>\n",
       "      <td>Finger Food, Continental, SeafoodAsian, North ...</td>\n",
       "    </tr>\n",
       "    <tr>\n",
       "      <th>Whitefield</th>\n",
       "      <td>CafeAmerican, Cafe, Continental, French, Burge...</td>\n",
       "    </tr>\n",
       "  </tbody>\n",
       "</table>\n",
       "</div>"
      ],
      "text/plain": [
       "                                                                Cuisines\n",
       "Location_City                                                           \n",
       "BTM                    European, Mediterranean, North Indian, BBQCont...\n",
       "Banashankari           North Indian, Mughlai, ChineseChinese, North I...\n",
       "Bannerghatta Road      North Indian, ItalianArabian, Biryani, Chinese...\n",
       "Basavanagudi           North Indian, South IndianChinese, Continental...\n",
       "Bellandur              North Indian, South Indian, ContinentalSeafood...\n",
       "Brigade Road           North Indian, South IndianNorth Indian, Chines...\n",
       "Brookefield            Pizza, Cafe, ItalianNorth Indian, Arabian, Mug...\n",
       "Church Street          North Indian, Chinese, MughlaiNorth Indian, Ch...\n",
       "Electronic City        Continental, American, South Indian, Italian, ...\n",
       "Frazer Town            North Indian, Mughlai, South Indian, ChineseNo...\n",
       "HSR                    Seafood, Goan, North Indian, Continental, Asia...\n",
       "Indiranagar            Mughlai, North IndianNorth Indian, BBQ, Mughla...\n",
       "JP Nagar               North Indian, Chinese, Mughlai, Mexican, BBQNo...\n",
       "Jayanagar              North Indian, Chinese, Mughlai, Mexican, BBQNo...\n",
       "Kalyan Nagar           European, Mediterranean, North Indian, BBQNort...\n",
       "Kammanahalli           Cafe, Italian, Pizza, Beverages, DessertsPizza...\n",
       "Koramangala 4th Block  North Indian, Mughlai, SaladNorth Indian, Chin...\n",
       "Koramangala 5th Block  North Indian, European, MediterraneanContinent...\n",
       "Koramangala 6th Block  North Indian, Mughlai, SaladModern Indian, Eur...\n",
       "Koramangala 7th Block  North Indian, European, MediterraneanContinent...\n",
       "Lavelle Road           South Indian, Continental, North IndianNorth I...\n",
       "MG Road                North Indian, Chinese, BBQNorth Indian, South ...\n",
       "Malleshwaram           North Indian, South IndianNorth IndianNorth In...\n",
       "Marathahalli           Continental, North Indian, Japanese, ItalianCo...\n",
       "New BEL Road           Continental, Italian, North IndianChinese, Tha...\n",
       "Old Airport Road       American, Continental, North Indian, Mediterra...\n",
       "Rajajinagar            North Indian, European, Mediterranean, BBQ, Ke...\n",
       "Residency Road         North Indian, Chinese, MughlaiNorth Indian, Ch...\n",
       "Sarjapur Road          Finger Food, Continental, SeafoodAsian, North ...\n",
       "Whitefield             CafeAmerican, Cafe, Continental, French, Burge..."
      ]
     },
     "execution_count": 229,
     "metadata": {},
     "output_type": "execute_result"
    }
   ],
   "source": [
    "df[['Location_City', 'Cuisines']].groupby('Location_City').sum()"
   ]
  },
  {
   "cell_type": "markdown",
   "id": "64dd110d-b0b2-4017-a997-bfa8da99a2d6",
   "metadata": {},
   "source": [
    "#### Top 15 Cuisines Of Bengaluru based on Rating"
   ]
  },
  {
   "cell_type": "code",
   "execution_count": 230,
   "id": "f313d41d-a322-4cca-a240-e3cd090b6e2c",
   "metadata": {},
   "outputs": [
    {
     "data": {
      "image/png": "[encoded data removed]",
      "text/plain": [
       "<Figure size 800x500 with 1 Axes>"
      ]
     },
     "metadata": {},
     "output_type": "display_data"
    }
   ],
   "source": [
    "plt.figure(figsize=(8,5))\n",
    "a = (df.groupby('Cuisines')['Rating'].mean().reset_index().sort_values(by='Rating',ascending=False).round(2)[0:15])['Cuisines']\n",
    "b = (df.groupby('Cuisines')['Rating'].mean().reset_index().sort_values(by='Rating',ascending=False).round(2)[0:15])['Rating']\n",
    "sns.barplot(x=a, y=b, hue=a)\n",
    "plt.title('Top 15 Rated Cuisines')\n",
    "plt.ylabel('Rating')\n",
    "plt.ylim(4.5,5)\n",
    "plt.xticks(rotation = 90)\n",
    "plt.show()"
   ]
  },
  {
   "cell_type": "markdown",
   "id": "99d88f8c-9b9c-4324-9b09-b58f08a12c8b",
   "metadata": {},
   "source": [
    "#### Average cost of food in each city of Bangalore"
   ]
  },
  {
   "cell_type": "code",
   "execution_count": 231,
   "id": "dd496fde-9059-4e6d-8607-59856b12ced1",
   "metadata": {
    "scrolled": true
   },
   "outputs": [
    {
     "data": {
      "text/html": [
       "<div>\n",
       "<style scoped>\n",
       "    .dataframe tbody tr th:only-of-type {\n",
       "        vertical-align: middle;\n",
       "    }\n",
       "\n",
       "    .dataframe tbody tr th {\n",
       "        vertical-align: top;\n",
       "    }\n",
       "\n",
       "    .dataframe thead th {\n",
       "        text-align: right;\n",
       "    }\n",
       "</style>\n",
       "<table border=\"1\" class=\"dataframe\">\n",
       "  <thead>\n",
       "    <tr style=\"text-align: right;\">\n",
       "      <th></th>\n",
       "      <th>Location_City</th>\n",
       "      <th>Approx_Cost(for two people)</th>\n",
       "    </tr>\n",
       "  </thead>\n",
       "  <tbody>\n",
       "    <tr>\n",
       "      <th>7</th>\n",
       "      <td>Church Street</td>\n",
       "      <td>771.04</td>\n",
       "    </tr>\n",
       "    <tr>\n",
       "      <th>5</th>\n",
       "      <td>Brigade Road</td>\n",
       "      <td>766.85</td>\n",
       "    </tr>\n",
       "    <tr>\n",
       "      <th>21</th>\n",
       "      <td>MG Road</td>\n",
       "      <td>761.33</td>\n",
       "    </tr>\n",
       "    <tr>\n",
       "      <th>20</th>\n",
       "      <td>Lavelle Road</td>\n",
       "      <td>752.22</td>\n",
       "    </tr>\n",
       "    <tr>\n",
       "      <th>27</th>\n",
       "      <td>Residency Road</td>\n",
       "      <td>741.10</td>\n",
       "    </tr>\n",
       "    <tr>\n",
       "      <th>11</th>\n",
       "      <td>Indiranagar</td>\n",
       "      <td>654.06</td>\n",
       "    </tr>\n",
       "    <tr>\n",
       "      <th>25</th>\n",
       "      <td>Old Airport Road</td>\n",
       "      <td>609.51</td>\n",
       "    </tr>\n",
       "    <tr>\n",
       "      <th>29</th>\n",
       "      <td>Whitefield</td>\n",
       "      <td>578.97</td>\n",
       "    </tr>\n",
       "    <tr>\n",
       "      <th>22</th>\n",
       "      <td>Malleshwaram</td>\n",
       "      <td>574.75</td>\n",
       "    </tr>\n",
       "    <tr>\n",
       "      <th>9</th>\n",
       "      <td>Frazer Town</td>\n",
       "      <td>558.22</td>\n",
       "    </tr>\n",
       "    <tr>\n",
       "      <th>4</th>\n",
       "      <td>Bellandur</td>\n",
       "      <td>551.12</td>\n",
       "    </tr>\n",
       "    <tr>\n",
       "      <th>28</th>\n",
       "      <td>Sarjapur Road</td>\n",
       "      <td>542.26</td>\n",
       "    </tr>\n",
       "    <tr>\n",
       "      <th>16</th>\n",
       "      <td>Koramangala 4th Block</td>\n",
       "      <td>528.61</td>\n",
       "    </tr>\n",
       "    <tr>\n",
       "      <th>17</th>\n",
       "      <td>Koramangala 5th Block</td>\n",
       "      <td>523.24</td>\n",
       "    </tr>\n",
       "    <tr>\n",
       "      <th>18</th>\n",
       "      <td>Koramangala 6th Block</td>\n",
       "      <td>521.69</td>\n",
       "    </tr>\n",
       "    <tr>\n",
       "      <th>6</th>\n",
       "      <td>Brookefield</td>\n",
       "      <td>521.29</td>\n",
       "    </tr>\n",
       "    <tr>\n",
       "      <th>19</th>\n",
       "      <td>Koramangala 7th Block</td>\n",
       "      <td>520.78</td>\n",
       "    </tr>\n",
       "    <tr>\n",
       "      <th>23</th>\n",
       "      <td>Marathahalli</td>\n",
       "      <td>498.68</td>\n",
       "    </tr>\n",
       "    <tr>\n",
       "      <th>8</th>\n",
       "      <td>Electronic City</td>\n",
       "      <td>497.14</td>\n",
       "    </tr>\n",
       "    <tr>\n",
       "      <th>0</th>\n",
       "      <td>BTM</td>\n",
       "      <td>495.74</td>\n",
       "    </tr>\n",
       "    <tr>\n",
       "      <th>10</th>\n",
       "      <td>HSR</td>\n",
       "      <td>488.08</td>\n",
       "    </tr>\n",
       "    <tr>\n",
       "      <th>26</th>\n",
       "      <td>Rajajinagar</td>\n",
       "      <td>486.52</td>\n",
       "    </tr>\n",
       "    <tr>\n",
       "      <th>14</th>\n",
       "      <td>Kalyan Nagar</td>\n",
       "      <td>480.33</td>\n",
       "    </tr>\n",
       "    <tr>\n",
       "      <th>15</th>\n",
       "      <td>Kammanahalli</td>\n",
       "      <td>471.29</td>\n",
       "    </tr>\n",
       "    <tr>\n",
       "      <th>13</th>\n",
       "      <td>Jayanagar</td>\n",
       "      <td>469.40</td>\n",
       "    </tr>\n",
       "    <tr>\n",
       "      <th>12</th>\n",
       "      <td>JP Nagar</td>\n",
       "      <td>460.14</td>\n",
       "    </tr>\n",
       "    <tr>\n",
       "      <th>24</th>\n",
       "      <td>New BEL Road</td>\n",
       "      <td>457.05</td>\n",
       "    </tr>\n",
       "    <tr>\n",
       "      <th>2</th>\n",
       "      <td>Bannerghatta Road</td>\n",
       "      <td>452.72</td>\n",
       "    </tr>\n",
       "    <tr>\n",
       "      <th>3</th>\n",
       "      <td>Basavanagudi</td>\n",
       "      <td>445.22</td>\n",
       "    </tr>\n",
       "    <tr>\n",
       "      <th>1</th>\n",
       "      <td>Banashankari</td>\n",
       "      <td>401.55</td>\n",
       "    </tr>\n",
       "  </tbody>\n",
       "</table>\n",
       "</div>"
      ],
      "text/plain": [
       "            Location_City  Approx_Cost(for two people)\n",
       "7           Church Street                       771.04\n",
       "5            Brigade Road                       766.85\n",
       "21                MG Road                       761.33\n",
       "20           Lavelle Road                       752.22\n",
       "27         Residency Road                       741.10\n",
       "11            Indiranagar                       654.06\n",
       "25       Old Airport Road                       609.51\n",
       "29             Whitefield                       578.97\n",
       "22           Malleshwaram                       574.75\n",
       "9             Frazer Town                       558.22\n",
       "4               Bellandur                       551.12\n",
       "28          Sarjapur Road                       542.26\n",
       "16  Koramangala 4th Block                       528.61\n",
       "17  Koramangala 5th Block                       523.24\n",
       "18  Koramangala 6th Block                       521.69\n",
       "6             Brookefield                       521.29\n",
       "19  Koramangala 7th Block                       520.78\n",
       "23           Marathahalli                       498.68\n",
       "8         Electronic City                       497.14\n",
       "0                     BTM                       495.74\n",
       "10                    HSR                       488.08\n",
       "26            Rajajinagar                       486.52\n",
       "14           Kalyan Nagar                       480.33\n",
       "15           Kammanahalli                       471.29\n",
       "13              Jayanagar                       469.40\n",
       "12               JP Nagar                       460.14\n",
       "24           New BEL Road                       457.05\n",
       "2       Bannerghatta Road                       452.72\n",
       "3            Basavanagudi                       445.22\n",
       "1            Banashankari                       401.55"
      ]
     },
     "execution_count": 231,
     "metadata": {},
     "output_type": "execute_result"
    }
   ],
   "source": [
    "df.groupby('Location_City')['Approx_Cost(for two people)'].mean().reset_index().sort_values(by='Approx_Cost(for two people)', ascending=False).round(2)"
   ]
  }
 ],
 "metadata": {
  "kernelspec": {
   "display_name": "Python 3 (ipykernel)",
   "language": "python",
   "name": "python3"
  },
  "language_info": {
   "codemirror_mode": {
    "name": "ipython",
    "version": 3
   },
   "file_extension": ".py",
   "mimetype": "text/x-python",
   "name": "python",
   "nbconvert_exporter": "python",
   "pygments_lexer": "ipython3",
   "version": "3.11.5"
  }
 },
 "nbformat": 4,
 "nbformat_minor": 5
}
